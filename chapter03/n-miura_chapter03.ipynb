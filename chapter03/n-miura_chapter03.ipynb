{
 "cells": [
  {
   "cell_type": "markdown",
   "id": "c559d1ac-bd2a-47d6-80ec-15fd4474f323",
   "metadata": {},
   "source": [
    "第3章: 正規表現"
   ]
  },
  {
   "cell_type": "code",
   "execution_count": 1,
   "id": "3da8437d-a2df-4db2-9204-8b3a61d7f816",
   "metadata": {},
   "outputs": [
    {
     "name": "stdout",
     "output_type": "stream",
     "text": [
      "--2023-04-03 14:48:36--  https://nlp100.github.io/data/jawiki-country.json.gz\n",
      "nlp100.github.io (nlp100.github.io) をDNSに問いあわせています... 185.199.108.153, 185.199.109.153, 185.199.110.153, ...\n",
      "nlp100.github.io (nlp100.github.io)|185.199.108.153|:443 に接続しています... 接続しました。\n",
      "HTTP による接続要求を送信しました、応答を待っています... 200 OK\n",
      "長さ: 5068362 (4.8M) [application/gzip]\n",
      "`jawiki-country.json.gz' に保存中\n",
      "\n",
      "jawiki-country.json 100%[===================>]   4.83M  23.0MB/s 時間 0.2s       \n",
      "\n",
      "2023-04-03 14:48:38 (23.0 MB/s) - `jawiki-country.json.gz' へ保存完了 [5068362/5068362]\n",
      "\n"
     ]
    }
   ],
   "source": [
    "!wget https://nlp100.github.io/data/jawiki-country.json.gz"
   ]
  },
  {
   "cell_type": "code",
   "execution_count": 3,
   "id": "61caa2e2-e146-4581-b924-e78f53e4f60f",
   "metadata": {},
   "outputs": [
    {
     "name": "stdout",
     "output_type": "stream",
     "text": [
      "   20456 data/jawiki-country.json.gz\n"
     ]
    }
   ],
   "source": [
    "!wc -l data/jawiki-country.json.gz"
   ]
  },
  {
   "cell_type": "markdown",
   "id": "4e5b6b52-1eef-410e-ab13-85977cf2a769",
   "metadata": {},
   "source": [
    "#20. JSONデータの読み込み\n",
    "\n",
    "Wikipedia記事のJSONファイルを読み込み，「イギリス」に関する記事本文を表示せよ．問題21-29では，ここで抽出した記事本文に対して実行せよ"
   ]
  },
  {
   "cell_type": "code",
   "execution_count": 18,
   "id": "87c4095b-5333-4e95-87de-5361b6e024be",
   "metadata": {},
   "outputs": [],
   "source": [
    "#gzipの解凍\n",
    "#jsone形式のファイルをパース\n",
    "\n",
    "import gzip\n",
    "import json\n",
    "\n",
    "filename = 'data/jawiki-country.json.gz'\n",
    "\n",
    "with gzip.open(filename) as fi, open('work/uk.txt', 'w') as fo:\n",
    "    for data in fi:\n",
    "        data = json.loads(data)\n",
    "        if data['title'] == 'イギリス':\n",
    "            uk_txt = data['text']\n",
    "            fo.write(uk_txt)\n",
    "            break\n",
    "\n",
    "#print(uk_txt)\n",
    "#type(uk_txt) -> str\n"
   ]
  },
  {
   "cell_type": "code",
   "execution_count": 9,
   "id": "1806fa75-83e3-4169-9b9d-9059653ff7c1",
   "metadata": {},
   "outputs": [
    {
     "name": "stdout",
     "output_type": "stream",
     "text": [
      "{{redirect|UK}}\n",
      "{{redirect|英国|春秋時代の諸侯国|英 (春秋)}}\n",
      "{{Otheruses|ヨーロッパの国|長崎県・熊本県の郷土料理|いぎりす}}\n",
      "{{基礎情報 国\n",
      "|略名  =イギリス\n",
      "|日本語国名 = グレートブリテン及び北アイルランド連合王国\n",
      "|公式国名 = {{lang|en|United Kingdom of Great Britain and Northern Ireland}}<ref>英語以外での正式国名:<br />\n",
      "*{{lang|gd|An Rìoghachd Aonaichte na Breatainn Mhòr agus Eirinn mu Thuath}}（[[スコットランド・ゲール語]]）\n",
      "*{{lang|cy|Teyrnas Gyfunol Prydain Fawr a Gogledd Iwerddon}}（[[ウェールズ語]]）\n",
      "*{{lang|ga|Ríocht Aontaithe na Breataine Móire agus Tuaisceart na hÉireann}}（[[アイルランド語]]）\n"
     ]
    }
   ],
   "source": [
    "!head 'work/uk.txt'"
   ]
  },
  {
   "cell_type": "code",
   "execution_count": 10,
   "id": "1446bc23-1a91-4995-a8e2-23f878a292f1",
   "metadata": {},
   "outputs": [
    {
     "name": "stdout",
     "output_type": "stream",
     "text": [
      "{{デフォルトソート:いきりす}}\n",
      "[[Category:イギリス|*]]\n",
      "[[Category:イギリス連邦加盟国]]\n",
      "[[Category:英連邦王国|*]]\n",
      "[[Category:G8加盟国]]\n",
      "[[Category:欧州連合加盟国|元]]\n",
      "[[Category:海洋国家]]\n",
      "[[Category:現存する君主国]]\n",
      "[[Category:島国]]\n",
      "[[Category:1801年に成立した国家・領域]]"
     ]
    }
   ],
   "source": [
    "!tail 'work/uk.txt'"
   ]
  },
  {
   "cell_type": "markdown",
   "id": "61fea8ec-0962-4500-8e8b-1de7bb171da3",
   "metadata": {},
   "source": [
    "#21. カテゴリ名を含む行を抽出\n",
    "\n",
    "記事中でカテゴリ名を宣言している行を抽出せよ．"
   ]
  },
  {
   "cell_type": "code",
   "execution_count": 3,
   "id": "20b5d5f2-dc0a-462c-bb46-52c79b7fb48d",
   "metadata": {},
   "outputs": [
    {
     "name": "stdout",
     "output_type": "stream",
     "text": [
      "[[Category:イギリス|*]]\n",
      "[[Category:イギリス連邦加盟国]]\n",
      "[[Category:英連邦王国|*]]\n",
      "[[Category:G8加盟国]]\n",
      "[[Category:欧州連合加盟国|元]]\n",
      "[[Category:海洋国家]]\n",
      "[[Category:現存する君主国]]\n",
      "[[Category:島国]]\n",
      "[[Category:1801年に成立した国家・領域]]\n"
     ]
    }
   ],
   "source": [
    "#wiki早見表より\n",
    "#[[Category:ヘルプ|はやみひよう]]\n",
    "#'['は特殊文字\n",
    "import re\n",
    "pt =re.compile(r'\\[\\[Category:.*?\\]\\]$')\n",
    " \n",
    "with open('work/uk.txt') as f:\n",
    "    for line in f:\n",
    "        if pt.search(line):\n",
    "            print(line.rstrip())"
   ]
  },
  {
   "cell_type": "markdown",
   "id": "4e7e6499-c81b-4301-8253-6dd104a88e3d",
   "metadata": {},
   "source": [
    "#22. カテゴリ名の抽出\n",
    "\n",
    "記事のカテゴリ名を（行単位ではなく名前で）抽出せよ．"
   ]
  },
  {
   "cell_type": "code",
   "execution_count": 45,
   "id": "a07946d2-1533-472a-be9e-fd4448e081ae",
   "metadata": {},
   "outputs": [
    {
     "name": "stdout",
     "output_type": "stream",
     "text": [
      "イギリス\n",
      "イギリス連邦加盟国\n",
      "英連邦王国\n",
      "G8加盟国\n",
      "欧州連合加盟国\n",
      "海洋国家\n",
      "現存する君主国\n",
      "島国\n",
      "1801年に成立した国家・領域\n"
     ]
    }
   ],
   "source": [
    "pt =re.compile(r'\\[\\[Category:(.*?)[]|]+')\n",
    " \n",
    "with open('work/uk.txt') as f:\n",
    "    for line in f:\n",
    "        line = pt.search(line.rstrip())\n",
    "        if line:\n",
    "            print(line.group(1))"
   ]
  },
  {
   "cell_type": "markdown",
   "id": "af1ee503-fb6b-48ef-aba5-ef7757a0d0cb",
   "metadata": {},
   "source": [
    "#23. セクション構造\n",
    "\n",
    "記事中に含まれるセクション名とそのレベル（例えば”== セクション名 ==”なら1）を表示せよ．"
   ]
  },
  {
   "cell_type": "code",
   "execution_count": 35,
   "id": "90b163fd-c4b6-442c-9adb-0341aab05de6",
   "metadata": {},
   "outputs": [
    {
     "name": "stdout",
     "output_type": "stream",
     "text": [
      "セクション名:国名\tレベル：1\n",
      "セクション名:歴史\tレベル：1\n",
      "セクション名:地理\tレベル：1\n",
      "セクション名:主要都市\tレベル：2\n",
      "セクション名:気候\tレベル：2\n",
      "セクション名:政治\tレベル：1\n",
      "セクション名:元首\tレベル：2\n",
      "セクション名:法\tレベル：2\n",
      "セクション名:内政\tレベル：2\n",
      "セクション名:地方行政区分\tレベル：2\n",
      "セクション名:外交・軍事\tレベル：2\n",
      "セクション名:経済\tレベル：1\n",
      "セクション名:鉱業\tレベル：2\n",
      "セクション名:農業\tレベル：2\n",
      "セクション名:貿易\tレベル：2\n",
      "セクション名:不動産\tレベル：2\n",
      "セクション名:エネルギー政策\tレベル：2\n",
      "セクション名:通貨\tレベル：2\n",
      "セクション名:企業\tレベル：2\n",
      "セクション名:通信\tレベル：3\n",
      "セクション名:交通\tレベル：1\n",
      "セクション名:道路\tレベル：2\n",
      "セクション名:鉄道\tレベル：2\n",
      "セクション名:海運\tレベル：2\n",
      "セクション名:航空\tレベル：2\n",
      "セクション名:科学技術\tレベル：1\n",
      "セクション名:国民\tレベル：1\n",
      "セクション名:言語\tレベル：2\n",
      "セクション名:宗教\tレベル：2\n",
      "セクション名:婚姻\tレベル：2\n",
      "セクション名:移住\tレベル：2\n",
      "セクション名:教育\tレベル：2\n",
      "セクション名:医療\tレベル：2\n",
      "セクション名:文化\tレベル：1\n",
      "セクション名:食文化\tレベル：2\n",
      "セクション名:文学\tレベル：2\n",
      "セクション名:哲学\tレベル：2\n",
      "セクション名:音楽\tレベル：2\n",
      "セクション名:ポピュラー音楽\tレベル：3\n",
      "セクション名:映画\tレベル：2\n",
      "セクション名:コメディ\tレベル：2\n",
      "セクション名:国花\tレベル：2\n",
      "セクション名:世界遺産\tレベル：2\n",
      "セクション名:祝祭日\tレベル：2\n",
      "セクション名:スポーツ\tレベル：2\n",
      "セクション名:サッカー\tレベル：3\n",
      "セクション名:クリケット\tレベル：3\n",
      "セクション名:競馬\tレベル：3\n",
      "セクション名:モータースポーツ\tレベル：3\n",
      "セクション名:野球\tレベル：3\n",
      "セクション名: カーリング \tレベル：3\n",
      "セクション名: 自転車競技 \tレベル：3\n",
      "セクション名:脚注\tレベル：1\n",
      "セクション名:関連項目\tレベル：1\n",
      "セクション名:外部リンク\tレベル：1\n"
     ]
    }
   ],
   "source": [
    "pt = re.compile(r'(==+)(.*?)(==+)')\n",
    "\n",
    "with open('work/uk.txt') as f:\n",
    "    for line in f:\n",
    "        line = pt.search(line.rstrip())\n",
    "        if line:\n",
    "            level = len(line.group(1)) - 1\n",
    "            print(f'セクション名:{line.group(2)}\\tレベル：{level}')"
   ]
  },
  {
   "cell_type": "markdown",
   "id": "c13b04a1-4df9-437e-851c-3e5fc294c07a",
   "metadata": {},
   "source": [
    "#24. ファイル参照の抽出\n",
    "\n",
    "記事から参照されているメディアファイルをすべて抜き出せ"
   ]
  },
  {
   "cell_type": "code",
   "execution_count": 71,
   "id": "ba2e21c8-f280-4bad-bd8e-46d2494dff30",
   "metadata": {},
   "outputs": [
    {
     "name": "stdout",
     "output_type": "stream",
     "text": [
      "Royal Coat of Arms of the United Kingdom.svg\n",
      "United States Navy Band - God Save the Queen.ogg\n",
      "Descriptio Prime Tabulae Europae.jpg\n",
      "Lenepveu, Jeanne d'Arc au siège d'Orléans.jpg\n",
      "London.bankofengland.arp.jpg\n",
      "Battle of Waterloo 1815.PNG\n",
      "Uk topo en.jpg\n",
      "BenNevis2005.jpg\n",
      "Population density UK 2011 census.png\n",
      "2019 Greenwich Peninsula & Canary Wharf.jpg\n",
      "Birmingham Skyline from Edgbaston Cricket Ground crop.jpg\n",
      "Leeds CBD at night.jpg\n",
      "Glasgow and the Clyde from the air (geograph 4665720).jpg\n",
      "Palace of Westminster, London - Feb 2007.jpg\n",
      "Scotland Parliament Holyrood.jpg\n",
      "Donald Trump and Theresa May (33998675310) (cropped).jpg\n",
      "Soldiers Trooping the Colour, 16th June 2007.jpg\n",
      "City of London skyline from London City Hall - Oct 2008.jpg\n",
      "Oil platform in the North SeaPros.jpg\n",
      "Eurostar at St Pancras Jan 2008.jpg\n",
      "Heathrow Terminal 5C Iwelumo-1.jpg\n",
      "Airbus A380-841 G-XLEB British Airways (10424102995).jpg\n",
      "UKpop.svg\n",
      "Anglospeak.svg\n",
      "Royal Aberdeen Children's Hospital.jpg\n",
      "CHANDOS3.jpg\n",
      "The Fabs.JPG\n",
      "Wembley Stadium, illuminated.jpg\n"
     ]
    }
   ],
   "source": [
    "pt1 = re.compile(r'ファイル:(.*?)[\\|\\]]')\n",
    "\n",
    "with open('work/uk.txt') as f:\n",
    "    for line in f:\n",
    "        for found_line in pt1.finditer(line.rstrip()):\n",
    "            print(found_line.group(1))"
   ]
  },
  {
   "cell_type": "code",
   "execution_count": 73,
   "id": "d2e31d0f-a6b3-47e2-b205-61fb5c743e87",
   "metadata": {},
   "outputs": [
    {
     "name": "stdout",
     "output_type": "stream",
     "text": [
      "Royal Coat of Arms of the United Kingdom.svg\n",
      "United States Navy Band - God Save the Queen.ogg\n",
      "Descriptio Prime Tabulae Europae.jpg\n",
      "Lenepveu, Jeanne d'Arc au siège d'Orléans.jpg\n",
      "London.bankofengland.arp.jpg\n",
      "Battle of Waterloo 1815.PNG\n",
      "Uk topo en.jpg\n",
      "BenNevis2005.jpg\n",
      "Population density UK 2011 census.png\n",
      "2019 Greenwich Peninsula & Canary Wharf.jpg\n",
      "Birmingham Skyline from Edgbaston Cricket Ground crop.jpg\n",
      "Leeds CBD at night.jpg\n",
      "Glasgow and the Clyde from the air (geograph 4665720).jpg\n",
      "Palace of Westminster, London - Feb 2007.jpg\n",
      "Scotland Parliament Holyrood.jpg\n",
      "Donald Trump and Theresa May (33998675310) (cropped).jpg\n",
      "Soldiers Trooping the Colour, 16th June 2007.jpg\n",
      "City of London skyline from London City Hall - Oct 2008.jpg\n",
      "Oil platform in the North SeaPros.jpg\n",
      "Eurostar at St Pancras Jan 2008.jpg\n",
      "Heathrow Terminal 5C Iwelumo-1.jpg\n",
      "Airbus A380-841 G-XLEB British Airways (10424102995).jpg\n",
      "UKpop.svg\n",
      "Anglospeak.svg\n",
      "Royal Aberdeen Children's Hospital.jpg\n",
      "CHANDOS3.jpg\n",
      "The Fabs.JPG\n",
      "Wembley Stadium, illuminated.jpg\n",
      "28\n"
     ]
    }
   ],
   "source": [
    "#形式はjpg, svgなど\n",
    "#「hogehoge.~」形式のファイルを狙い撃ち\n",
    "pt = re.compile(r'\\[\\[ファイル:(.*?\\.\\w{3})[\\|\\]]')\n",
    "\n",
    "media_file_list = pt.findall(uk_txt)\n",
    "for found_line in media_file_list:\n",
    "    print(found_line)\n",
    "print(len(media_file_list))"
   ]
  },
  {
   "cell_type": "markdown",
   "id": "8bf55129-ef2a-4839-a10d-b02b37731ea1",
   "metadata": {},
   "source": [
    "#25. テンプレートの抽出\n",
    "\n",
    "記事中に含まれる「基礎情報」テンプレートのフィールド名と値を抽出し，辞書オブジェクトとして格納せよ．"
   ]
  },
  {
   "cell_type": "code",
   "execution_count": 110,
   "id": "295a33ed-eaa5-4a63-ac35-8a87093d0be7",
   "metadata": {},
   "outputs": [],
   "source": [
    "#基礎情報部分の抜き出し\n",
    "data = []\n",
    "ans = False\n",
    "with open('work/uk.txt') as f:\n",
    "    for line in f:\n",
    "        if ans:\n",
    "            if line.startswith('}}'):\n",
    "                break\n",
    "            else:\n",
    "                data.append(line.rstrip())\n",
    "        else:\n",
    "            if line.startswith('{{基礎情報'):\n",
    "                ans = True\n",
    "#data      "
   ]
  },
  {
   "cell_type": "code",
   "execution_count": 111,
   "id": "d0c0c2b3-3b59-4013-a380-dd755ebf8fcb",
   "metadata": {},
   "outputs": [
    {
     "data": {
      "text/plain": [
       "{'略名  ': 'イギリス',\n",
       " '日本語国名 ': 'グレートブリテン及び北アイルランド連合王国',\n",
       " '公式国名 ': '{{lang|en|United Kingdom of Great Britain and Northern Ireland}}<ref>英語以外での正式国名:<br />',\n",
       " '国旗画像 ': 'Flag of the United Kingdom.svg',\n",
       " '国章画像 ': '[[ファイル:Royal Coat of Arms of the United Kingdom.svg|85px|イギリスの国章]]',\n",
       " '国章リンク ': '（[[イギリスの国章|国章]]）',\n",
       " '標語 ': '{{lang|fr|[[Dieu et mon droit]]}}<br />（[[フランス語]]:[[Dieu et mon droit|神と我が権利]]）',\n",
       " '国歌 ': \"[[女王陛下万歳|{{lang|en|God Save the Queen}}]]{{en icon}}<br />''神よ女王を護り賜え''<br />{{center|[[ファイル:United States Navy Band - God Save the Queen.ogg]]}}\",\n",
       " '地図画像 ': 'Europe-UK.svg',\n",
       " '位置画像 ': 'United Kingdom (+overseas territories) in the World (+Antarctica claims).svg',\n",
       " '公用語 ': '[[英語]]',\n",
       " '首都 ': '[[ロンドン]]（事実上）',\n",
       " '最大都市 ': 'ロンドン',\n",
       " '元首等肩書 ': '[[イギリスの君主|女王]]',\n",
       " '元首等氏名 ': '[[エリザベス2世]]',\n",
       " '首相等肩書 ': '[[イギリスの首相|首相]]',\n",
       " '首相等氏名 ': '[[ボリス・ジョンソン]]',\n",
       " '他元首等肩書1 ': '[[貴族院 (イギリス)|貴族院議長]]',\n",
       " '他元首等氏名1 ': '[[:en:Norman Fowler, Baron Fowler|ノーマン・ファウラー]]',\n",
       " '他元首等肩書2 ': '[[庶民院 (イギリス)|庶民院議長]]',\n",
       " '他元首等氏名2 ': '{{仮リンク|リンゼイ・ホイル|en|Lindsay Hoyle}}',\n",
       " '他元首等肩書3 ': '[[連合王国最高裁判所|最高裁判所長官]]',\n",
       " '他元首等氏名3 ': '[[:en:Brenda Hale, Baroness Hale of Richmond|ブレンダ・ヘイル]]',\n",
       " '面積順位 ': '76',\n",
       " '面積大きさ ': '1 E11',\n",
       " '面積値 ': '244,820',\n",
       " '水面積率 ': '1.3%',\n",
       " '人口統計年 ': '2018',\n",
       " '人口順位 ': '22',\n",
       " '人口大きさ ': '1 E7',\n",
       " '人口値 ': '6643万5600<ref>{{Cite web|url=https://www.ons.gov.uk/peoplepopulationandcommunity/populationandmigration/populationestimates|title=Population estimates - Office for National Statistics|accessdate=2019-06-26|date=2019-06-26}}</ref>',\n",
       " '人口密度値 ': '271',\n",
       " 'GDP統計年元 ': '2012',\n",
       " 'GDP値元 ': '1兆5478億<ref name=\"imf-statistics-gdp\">[http://www.imf.org/external/pubs/ft/weo/2012/02/weodata/weorept.aspx?pr.x=70&pr.y=13&sy=2010&ey=2012&scsm=1&ssd=1&sort=country&ds=.&br=1&c=112&s=NGDP%2CNGDPD%2CPPPGDP%2CPPPPC&grp=0&a=IMF>Data and Statistics>World Economic Outlook Databases>By Countrise>United Kingdom]</ref>',\n",
       " 'GDP統計年MER ': '2012',\n",
       " 'GDP順位MER ': '6',\n",
       " 'GDP値MER ': '2兆4337億<ref name=\"imf-statistics-gdp\" />',\n",
       " 'GDP統計年 ': '2012',\n",
       " 'GDP順位 ': '6',\n",
       " 'GDP値 ': '2兆3162億<ref name=\"imf-statistics-gdp\" />',\n",
       " 'GDP/人 ': '36,727<ref name=\"imf-statistics-gdp\" />',\n",
       " '建国形態 ': '建国',\n",
       " '確立形態1 ': '[[イングランド王国]]／[[スコットランド王国]]<br />（両国とも[[合同法 (1707年)|1707年合同法]]まで）',\n",
       " '確立年月日1 ': '927年／843年',\n",
       " '確立形態2 ': '[[グレートブリテン王国]]成立<br />（1707年合同法）',\n",
       " '確立年月日2 ': '1707年{{0}}5月{{0}}1日',\n",
       " '確立形態3 ': '[[グレートブリテン及びアイルランド連合王国]]成立<br />（[[合同法 (1800年)|1800年合同法]]）',\n",
       " '確立年月日3 ': '1801年{{0}}1月{{0}}1日',\n",
       " '確立形態4 ': \"現在の国号「'''グレートブリテン及び北アイルランド連合王国'''」に変更\",\n",
       " '確立年月日4 ': '1927年{{0}}4月12日',\n",
       " '通貨 ': '[[スターリング・ポンド|UKポンド]] (£)',\n",
       " '通貨コード ': 'GBP',\n",
       " '時間帯 ': '±0',\n",
       " '夏時間 ': '+1',\n",
       " 'ISO 3166-1 ': 'GB / GBR',\n",
       " 'ccTLD ': '[[.uk]] / [[.gb]]<ref>使用は.ukに比べ圧倒的少数。</ref>',\n",
       " '国際電話番号 ': '44',\n",
       " '注記 ': '<references/>'}"
      ]
     },
     "execution_count": 111,
     "metadata": {},
     "output_type": "execute_result"
    }
   ],
   "source": [
    "basic_info_dict = {}\n",
    "temp = re.compile(r'\\|(.*?)=\\s*(.*)')\n",
    "for info in data:\n",
    "    match_info = temp.match(info)\n",
    "    if match_info:\n",
    "        key = match_info.group(1)\n",
    "        value = match_info.group(2)\n",
    "        basic_info_dict[key] = value\n",
    "basic_info_dict"
   ]
  },
  {
   "cell_type": "markdown",
   "id": "9d7489d9-77e2-4a49-a44e-9ac671df5484",
   "metadata": {},
   "source": [
    "#26. 強調マークアップの除去\n",
    "\n",
    "25の処理時に，テンプレートの値からMediaWikiの強調マークアップ（弱い強調，強調，強い強調のすべて）を除去してテキストに変換せよ（参考: マークアップ早見表）．"
   ]
  },
  {
   "cell_type": "code",
   "execution_count": 112,
   "id": "6ada0ae9-dc19-4ecd-b3cf-db6e48161c89",
   "metadata": {},
   "outputs": [
    {
     "name": "stdout",
     "output_type": "stream",
     "text": [
      "略名  :イギリス\n",
      "日本語国名 :グレートブリテン及び北アイルランド連合王国\n",
      "公式国名 :{{lang|en|United Kingdom of Great Britain and Northern Ireland}}<ref>英語以外での正式国名:<br />\n",
      "国旗画像 :Flag of the United Kingdom.svg\n",
      "国章画像 :[[ファイル:Royal Coat of Arms of the United Kingdom.svg|85px|イギリスの国章]]\n",
      "国章リンク :（[[イギリスの国章|国章]]）\n",
      "標語 :{{lang|fr|[[Dieu et mon droit]]}}<br />（[[フランス語]]:[[Dieu et mon droit|神と我が権利]]）\n",
      "国歌 :[[女王陛下万歳|{{lang|en|God Save the Queen}}]]{{en icon}}<br />神よ女王を護り賜え<br />{{center|[[ファイル:United States Navy Band - God Save the Queen.ogg]]}}\n",
      "地図画像 :Europe-UK.svg\n",
      "位置画像 :United Kingdom (+overseas territories) in the World (+Antarctica claims).svg\n",
      "公用語 :[[英語]]\n",
      "首都 :[[ロンドン]]（事実上）\n",
      "最大都市 :ロンドン\n",
      "元首等肩書 :[[イギリスの君主|女王]]\n",
      "元首等氏名 :[[エリザベス2世]]\n",
      "首相等肩書 :[[イギリスの首相|首相]]\n",
      "首相等氏名 :[[ボリス・ジョンソン]]\n",
      "他元首等肩書1 :[[貴族院 (イギリス)|貴族院議長]]\n",
      "他元首等氏名1 :[[:en:Norman Fowler, Baron Fowler|ノーマン・ファウラー]]\n",
      "他元首等肩書2 :[[庶民院 (イギリス)|庶民院議長]]\n",
      "他元首等氏名2 :{{仮リンク|リンゼイ・ホイル|en|Lindsay Hoyle}}\n",
      "他元首等肩書3 :[[連合王国最高裁判所|最高裁判所長官]]\n",
      "他元首等氏名3 :[[:en:Brenda Hale, Baroness Hale of Richmond|ブレンダ・ヘイル]]\n",
      "面積順位 :76\n",
      "面積大きさ :1 E11\n",
      "面積値 :244,820\n",
      "水面積率 :1.3%\n",
      "人口統計年 :2018\n",
      "人口順位 :22\n",
      "人口大きさ :1 E7\n",
      "人口値 :6643万5600<ref>{{Cite web|url=https://www.ons.gov.uk/peoplepopulationandcommunity/populationandmigration/populationestimates|title=Population estimates - Office for National Statistics|accessdate=2019-06-26|date=2019-06-26}}</ref>\n",
      "人口密度値 :271\n",
      "GDP統計年元 :2012\n",
      "GDP値元 :1兆5478億<ref name=\"imf-statistics-gdp\">[http://www.imf.org/external/pubs/ft/weo/2012/02/weodata/weorept.aspx?pr.x=70&pr.y=13&sy=2010&ey=2012&scsm=1&ssd=1&sort=country&ds=.&br=1&c=112&s=NGDP%2CNGDPD%2CPPPGDP%2CPPPPC&grp=0&a=IMF>Data and Statistics>World Economic Outlook Databases>By Countrise>United Kingdom]</ref>\n",
      "GDP統計年MER :2012\n",
      "GDP順位MER :6\n",
      "GDP値MER :2兆4337億<ref name=\"imf-statistics-gdp\" />\n",
      "GDP統計年 :2012\n",
      "GDP順位 :6\n",
      "GDP値 :2兆3162億<ref name=\"imf-statistics-gdp\" />\n",
      "GDP/人 :36,727<ref name=\"imf-statistics-gdp\" />\n",
      "建国形態 :建国\n",
      "確立形態1 :[[イングランド王国]]／[[スコットランド王国]]<br />（両国とも[[合同法 (1707年)|1707年合同法]]まで）\n",
      "確立年月日1 :927年／843年\n",
      "確立形態2 :[[グレートブリテン王国]]成立<br />（1707年合同法）\n",
      "確立年月日2 :1707年{{0}}5月{{0}}1日\n",
      "確立形態3 :[[グレートブリテン及びアイルランド連合王国]]成立<br />（[[合同法 (1800年)|1800年合同法]]）\n",
      "確立年月日3 :1801年{{0}}1月{{0}}1日\n",
      "確立形態4 :現在の国号「グレートブリテン及び北アイルランド連合王国」に変更\n",
      "確立年月日4 :1927年{{0}}4月12日\n",
      "通貨 :[[スターリング・ポンド|UKポンド]] (£)\n",
      "通貨コード :GBP\n",
      "時間帯 :±0\n",
      "夏時間 :+1\n",
      "ISO 3166-1 :GB / GBR\n",
      "ccTLD :[[.uk]] / [[.gb]]<ref>使用は.ukに比べ圧倒的少数。</ref>\n",
      "国際電話番号 :44\n",
      "注記 :<references/>\n"
     ]
    }
   ],
   "source": [
    "pt1 = re.compile(r'\\'{2,5}')\n",
    "for k,v in basic_info_dict.items():\n",
    "    v = pt1.sub('',v)\n",
    "    print(f'{k}:{v}')"
   ]
  },
  {
   "cell_type": "markdown",
   "id": "8b93ffdf-5ee9-43d4-b533-31abe4d2879f",
   "metadata": {},
   "source": [
    "#27. 内部リンクの除去\n",
    "\n",
    "26の処理に加えて，テンプレートの値からMediaWikiの内部リンクマークアップを除去し，テキストに変換せよ（参考: マークアップ早見表）．"
   ]
  },
  {
   "cell_type": "code",
   "execution_count": 113,
   "id": "a1d8a73f-ef3e-4a26-83e7-b8b47f1b80e3",
   "metadata": {},
   "outputs": [
    {
     "name": "stdout",
     "output_type": "stream",
     "text": [
      "略名  :イギリス\n",
      "日本語国名 :グレートブリテン及び北アイルランド連合王国\n",
      "公式国名 :{{lang|en|United Kingdom of Great Britain and Northern Ireland}}<ref>英語以外での正式国名:<br />\n",
      "国旗画像 :Flag of the United Kingdom.svg\n",
      "国章画像 :85px|イギリスの国章\n",
      "国章リンク :（国章）\n",
      "標語 :{{lang|fr|Dieu et mon droit}}<br />（フランス語:神と我が権利）\n",
      "国歌 :{{lang|en|God Save the Queen}}{{en icon}}<br />神よ女王を護り賜え<br />{{center|ファイル:United States Navy Band - God Save the Queen.ogg}}\n",
      "地図画像 :Europe-UK.svg\n",
      "位置画像 :United Kingdom (+overseas territories) in the World (+Antarctica claims).svg\n",
      "公用語 :英語\n",
      "首都 :ロンドン（事実上）\n",
      "最大都市 :ロンドン\n",
      "元首等肩書 :女王\n",
      "元首等氏名 :エリザベス2世\n",
      "首相等肩書 :首相\n",
      "首相等氏名 :ボリス・ジョンソン\n",
      "他元首等肩書1 :貴族院議長\n",
      "他元首等氏名1 :ノーマン・ファウラー\n",
      "他元首等肩書2 :庶民院議長\n",
      "他元首等氏名2 :{{仮リンク|リンゼイ・ホイル|en|Lindsay Hoyle}}\n",
      "他元首等肩書3 :最高裁判所長官\n",
      "他元首等氏名3 :ブレンダ・ヘイル\n",
      "面積順位 :76\n",
      "面積大きさ :1 E11\n",
      "面積値 :244,820\n",
      "水面積率 :1.3%\n",
      "人口統計年 :2018\n",
      "人口順位 :22\n",
      "人口大きさ :1 E7\n",
      "人口値 :6643万5600<ref>{{Cite web|url=https://www.ons.gov.uk/peoplepopulationandcommunity/populationandmigration/populationestimates|title=Population estimates - Office for National Statistics|accessdate=2019-06-26|date=2019-06-26}}</ref>\n",
      "人口密度値 :271\n",
      "GDP統計年元 :2012\n",
      "GDP値元 :1兆5478億<ref name=\"imf-statistics-gdp\">[http://www.imf.org/external/pubs/ft/weo/2012/02/weodata/weorept.aspx?pr.x=70&pr.y=13&sy=2010&ey=2012&scsm=1&ssd=1&sort=country&ds=.&br=1&c=112&s=NGDP%2CNGDPD%2CPPPGDP%2CPPPPC&grp=0&a=IMF>Data and Statistics>World Economic Outlook Databases>By Countrise>United Kingdom]</ref>\n",
      "GDP統計年MER :2012\n",
      "GDP順位MER :6\n",
      "GDP値MER :2兆4337億<ref name=\"imf-statistics-gdp\" />\n",
      "GDP統計年 :2012\n",
      "GDP順位 :6\n",
      "GDP値 :2兆3162億<ref name=\"imf-statistics-gdp\" />\n",
      "GDP/人 :36,727<ref name=\"imf-statistics-gdp\" />\n",
      "建国形態 :建国\n",
      "確立形態1 :イングランド王国／スコットランド王国<br />（両国とも1707年合同法まで）\n",
      "確立年月日1 :927年／843年\n",
      "確立形態2 :グレートブリテン王国成立<br />（1707年合同法）\n",
      "確立年月日2 :1707年{{0}}5月{{0}}1日\n",
      "確立形態3 :グレートブリテン及びアイルランド連合王国成立<br />（1800年合同法）\n",
      "確立年月日3 :1801年{{0}}1月{{0}}1日\n",
      "確立形態4 :現在の国号「グレートブリテン及び北アイルランド連合王国」に変更\n",
      "確立年月日4 :1927年{{0}}4月12日\n",
      "通貨 :UKポンド (£)\n",
      "通貨コード :GBP\n",
      "時間帯 :±0\n",
      "夏時間 :+1\n",
      "ISO 3166-1 :GB / GBR\n",
      "ccTLD :.uk / .gb<ref>使用は.ukに比べ圧倒的少数。</ref>\n",
      "国際電話番号 :44\n",
      "注記 :<references/>\n"
     ]
    }
   ],
   "source": [
    "pt1 = re.compile(r'\\'{2,5}')\n",
    "#①[[記事名]] → 記事名　\n",
    "pt2 = re.compile(r'\\[\\[([^\\|]+?)\\]\\]')\n",
    "#②[[記事名|表示文字 ]] → 表示文字　｜　[[記事名#節名|表示文字]] → 表示文字\n",
    "pt3 = re.compile(r'\\[\\[(?:[^\\|]*)\\|(.*?)\\]\\]')\n",
    "\n",
    "for k,v in basic_info_dict.items():\n",
    "    v = pt1.sub('',v)\n",
    "    v = pt2.sub(r'\\1',v)\n",
    "    v = pt3.sub(r'\\1',v)\n",
    "    print(f'{k}:{v}')"
   ]
  },
  {
   "cell_type": "markdown",
   "id": "e09cfc91-1039-4463-959d-0dfadf54e347",
   "metadata": {},
   "source": [
    "#28. MediaWikiマークアップの除去\n",
    "\n",
    "27の処理に加えて，テンプレートの値からMediaWikiマークアップを可能な限り除去し，国の基本情報を整形せよ．"
   ]
  },
  {
   "cell_type": "code",
   "execution_count": 118,
   "id": "98beeccd-fe8f-4ae6-a4ff-b00aa4d3f4ab",
   "metadata": {},
   "outputs": [],
   "source": [
    "#basic_info_dict"
   ]
  },
  {
   "cell_type": "code",
   "execution_count": 115,
   "id": "97803a3b-881d-470e-a717-d48b12e1c801",
   "metadata": {},
   "outputs": [],
   "source": [
    "pt4 = re.compile(r'\\[\\[ファイル:([^\\|]+?)\\|.+?\\]\\]')\n",
    "pt5 = re.compile(r'<(ref|br).*?/>')\n",
    "pt6 = re.compile(r'\\{\\{(.+?)\\}\\}')\n",
    "pt7 = re.compile(r'\\[\\[ファイル:([^\\|]+?)\\-(.+?)\\]\\]')\n",
    "pt8 = re.compile(r'<ref.+?</ref>')"
   ]
  },
  {
   "cell_type": "code",
   "execution_count": 117,
   "id": "b394c652-c5ce-49a8-9318-a6a42bbe598a",
   "metadata": {},
   "outputs": [
    {
     "name": "stdout",
     "output_type": "stream",
     "text": [
      "略名  :イギリス\n",
      "日本語国名 :グレートブリテン及び北アイルランド連合王国\n",
      "公式国名 :lang|en|United Kingdom of Great Britain and Northern Ireland\n",
      "国旗画像 :Flag of the United Kingdom.svg\n",
      "国章画像 :85px|イギリスの国章\n",
      "国章リンク :（国章）\n",
      "標語 :lang|fr|Dieu et mon droit（フランス語:神と我が権利）\n",
      "国歌 :lang|en|God Save the Queenen icon神よ女王を護り賜えcenter|ファイル:United States Navy Band - God Save the Queen.ogg\n",
      "地図画像 :Europe-UK.svg\n",
      "位置画像 :United Kingdom (+overseas territories) in the World (+Antarctica claims).svg\n",
      "公用語 :英語\n",
      "首都 :ロンドン（事実上）\n",
      "最大都市 :ロンドン\n",
      "元首等肩書 :女王\n",
      "元首等氏名 :エリザベス2世\n",
      "首相等肩書 :首相\n",
      "首相等氏名 :ボリス・ジョンソン\n",
      "他元首等肩書1 :貴族院議長\n",
      "他元首等氏名1 :ノーマン・ファウラー\n",
      "他元首等肩書2 :庶民院議長\n",
      "他元首等氏名2 :仮リンク|リンゼイ・ホイル|en|Lindsay Hoyle\n",
      "他元首等肩書3 :最高裁判所長官\n",
      "他元首等氏名3 :ブレンダ・ヘイル\n",
      "面積順位 :76\n",
      "面積大きさ :1 E11\n",
      "面積値 :244,820\n",
      "水面積率 :1.3%\n",
      "人口統計年 :2018\n",
      "人口順位 :22\n",
      "人口大きさ :1 E7\n",
      "人口値 :6643万5600\n",
      "人口密度値 :271\n",
      "GDP統計年元 :2012\n",
      "GDP値元 :1兆5478億\n",
      "GDP統計年MER :2012\n",
      "GDP順位MER :6\n",
      "GDP値MER :2兆4337億\n",
      "GDP統計年 :2012\n",
      "GDP順位 :6\n",
      "GDP値 :2兆3162億\n",
      "GDP/人 :36,727\n",
      "建国形態 :建国\n",
      "確立形態1 :イングランド王国／スコットランド王国（両国とも1707年合同法まで）\n",
      "確立年月日1 :927年／843年\n",
      "確立形態2 :グレートブリテン王国成立（1707年合同法）\n",
      "確立年月日2 :1707年05月01日\n",
      "確立形態3 :グレートブリテン及びアイルランド連合王国成立（1800年合同法）\n",
      "確立年月日3 :1801年01月01日\n",
      "確立形態4 :現在の国号「グレートブリテン及び北アイルランド連合王国」に変更\n",
      "確立年月日4 :1927年04月12日\n",
      "通貨 :UKポンド (£)\n",
      "通貨コード :GBP\n",
      "時間帯 :±0\n",
      "夏時間 :+1\n",
      "ISO 3166-1 :GB / GBR\n",
      "ccTLD :.uk / .gb\n",
      "国際電話番号 :44\n",
      "注記 :\n"
     ]
    }
   ],
   "source": [
    "for k,v in basic_info_dict.items():\n",
    "    v = pt1.sub('',v)\n",
    "    v = pt2.sub(r'\\1',v)\n",
    "    v = pt3.sub(r'\\1',v)\n",
    "    v = pt4.sub(r'\\1',v)\n",
    "    v = pt5.sub('',v)\n",
    "    v = pt6.sub(r'\\1',v)\n",
    "    v = pt7.sub(r'\\1',v)\n",
    "    v = pt8.sub('',v)\n",
    "    print(f'{k}:{v}')"
   ]
  },
  {
   "cell_type": "markdown",
   "id": "27e56299-ea8e-44b9-bf53-21689182e695",
   "metadata": {},
   "source": [
    "#29. 国旗画像のURLを取得する\n",
    "\n",
    "テンプレートの内容を利用し，国旗画像のURLを取得せよ．（ヒント: MediaWiki APIのimageinfoを呼び出して，ファイル参照をURLに変換すればよい）"
   ]
  },
  {
   "cell_type": "code",
   "execution_count": 124,
   "id": "8e648d90-00aa-4fd9-ae3c-240d1c88199a",
   "metadata": {},
   "outputs": [
    {
     "name": "stdout",
     "output_type": "stream",
     "text": [
      "https://upload.wikimedia.org/wikipedia/en/a/ae/Flag_of_the_United_Kingdom.svg\n"
     ]
    }
   ],
   "source": [
    "#Mediawikiサンプルコードより\n",
    "import requests\n",
    "S = requests.Session()#セッションの維持\n",
    "URL = \"https://en.wikipedia.org/w/api.php\"\n",
    "#パラメータ指定\n",
    "PARAMS = {\n",
    "    \"action\": \"query\",\n",
    "    \"format\": \"json\",\n",
    "    \"prop\": \"imageinfo\",\n",
    "    \"titles\": \"File:Flag of the United Kingdom.svg\",\n",
    "    \"iiprop\": \"url\"\n",
    "}\n",
    "R = S.get(url=URL, params=PARAMS)\n",
    "DATA = R.json()\n",
    "PAGES = DATA[\"query\"][\"pages\"]#dictらしい...\n",
    "\n",
    "\n",
    "\n",
    "for k, v in PAGES.items():\n",
    "    print(v[\"imageinfo\"][0]['url'])"
   ]
  },
  {
   "cell_type": "code",
   "execution_count": 125,
   "id": "fecf4e3e-6214-4690-afe5-66ab53ac0e0f",
   "metadata": {},
   "outputs": [
    {
     "data": {
      "image/svg+xml": [
       "<svg xmlns=\"http://www.w3.org/2000/svg\" viewBox=\"0 0 60 30\" width=\"1200\" height=\"600\">\n",
       "<clipPath id=\"s\">\n",
       "\t<path d=\"M0,0 v30 h60 v-30 z\"/>\n",
       "</clipPath>\n",
       "<clipPath id=\"t\">\n",
       "\t<path d=\"M30,15 h30 v15 z v15 h-30 z h-30 v-15 z v-15 h30 z\"/>\n",
       "</clipPath>\n",
       "<g clip-path=\"url(#s)\">\n",
       "\t<path d=\"M0,0 v30 h60 v-30 z\" fill=\"#012169\"/>\n",
       "\t<path d=\"M0,0 L60,30 M60,0 L0,30\" stroke=\"#fff\" stroke-width=\"6\"/>\n",
       "\t<path d=\"M0,0 L60,30 M60,0 L0,30\" clip-path=\"url(#t)\" stroke=\"#C8102E\" stroke-width=\"4\"/>\n",
       "\t<path d=\"M30,0 v30 M0,15 h60\" stroke=\"#fff\" stroke-width=\"10\"/>\n",
       "\t<path d=\"M30,0 v30 M0,15 h60\" stroke=\"#C8102E\" stroke-width=\"6\"/>\n",
       "</g>\n",
       "</svg>"
      ],
      "text/plain": [
       "<IPython.core.display.SVG object>"
      ]
     },
     "metadata": {},
     "output_type": "display_data"
    }
   ],
   "source": [
    "from IPython.display import SVG, display\n",
    "\n",
    "display(SVG('https://upload.wikimedia.org/wikipedia/en/a/ae/Flag_of_the_United_Kingdom.svg'))"
   ]
  },
  {
   "cell_type": "code",
   "execution_count": 126,
   "id": "95da81b8-9f02-4744-8e06-cea565310abe",
   "metadata": {},
   "outputs": [
    {
     "data": {
      "text/plain": [
       "{'23473560': {'pageid': 23473560,\n",
       "  'ns': 6,\n",
       "  'title': 'File:Flag of the United Kingdom.svg',\n",
       "  'imagerepository': 'local',\n",
       "  'imageinfo': [{'url': 'https://upload.wikimedia.org/wikipedia/en/a/ae/Flag_of_the_United_Kingdom.svg',\n",
       "    'descriptionurl': 'https://en.wikipedia.org/wiki/File:Flag_of_the_United_Kingdom.svg',\n",
       "    'descriptionshorturl': 'https://en.wikipedia.org/w/index.php?curid=23473560'}]}}"
      ]
     },
     "execution_count": 126,
     "metadata": {},
     "output_type": "execute_result"
    }
   ],
   "source": [
    "PAGES"
   ]
  },
  {
   "cell_type": "code",
   "execution_count": null,
   "id": "6bb58834-0e98-4718-8857-24886e64c643",
   "metadata": {},
   "outputs": [],
   "source": []
  }
 ],
 "metadata": {
  "kernelspec": {
   "display_name": "Python 3 (ipykernel)",
   "language": "python",
   "name": "python3"
  },
  "language_info": {
   "codemirror_mode": {
    "name": "ipython",
    "version": 3
   },
   "file_extension": ".py",
   "mimetype": "text/x-python",
   "name": "python",
   "nbconvert_exporter": "python",
   "pygments_lexer": "ipython3",
   "version": "3.8.11"
  }
 },
 "nbformat": 4,
 "nbformat_minor": 5
}
