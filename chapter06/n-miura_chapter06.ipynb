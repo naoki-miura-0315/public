{
 "cells": [
  {
   "cell_type": "markdown",
   "id": "3d7d7793-f45e-4766-bf0a-3476b88897a7",
   "metadata": {},
   "source": [
    "#  50. データの入手・整形\n",
    "\n",
    "News Aggregator Data Setをダウンロードし、以下の要領で学習データ（train.txt），検証データ（valid.txt），評価データ（test.txt）を作成せよ．\n",
    "\n",
    "1.ダウンロードしたzipファイルを解凍し，readme.txtの説明を読む．\n",
    "\n",
    "2.情報源（publisher）が”Reuters”, “Huffington Post”, “Businessweek”, “Contactmusic.com”, “Daily Mail”の事例（記事）のみを抽出する．\n",
    "\n",
    "3抽出された事例をランダムに並び替える．\n",
    "\n",
    "4抽出された事例の80%を学習データ，残りの10%ずつを検証データと評価データに分割し，それぞれtrain.txt，valid.txt，test.txtというファイル名で保存する．ファイルには，１行に１事例を書き出すこととし，カテゴリ名と記事見出しのタブ区切り形式とせよ（このファイルは後に問題70で再利用する）\n",
    "\n",
    "学習データと評価データを作成したら，各カテゴリの事例数を確認せよ．\n",
    "\n"
   ]
  },
  {
   "cell_type": "code",
   "execution_count": 1,
   "id": "f130638c-4dc7-47e0-8b07-74656a0e95db",
   "metadata": {},
   "outputs": [
    {
     "name": "stdout",
     "output_type": "stream",
     "text": [
      "--2023-06-07 10:10:59--  https://archive.ics.uci.edu/ml/machine-learning-databases/00359/NewsAggregatorDataset.zip\n",
      "archive.ics.uci.edu (archive.ics.uci.edu) をDNSに問いあわせています... 128.195.10.252\n",
      "archive.ics.uci.edu (archive.ics.uci.edu)|128.195.10.252|:443 に接続しています... 接続しました。\n",
      "HTTP による接続要求を送信しました、応答を待っています... 200 OK\n",
      "長さ: 29224203 (28M) [application/x-httpd-php]\n",
      "`NewsAggregatorDataset.zip' に保存中\n",
      "\n",
      "NewsAggregatorDatas 100%[===================>]  27.87M  5.53MB/s 時間 5.5s       \n",
      "\n",
      "2023-06-07 10:11:05 (5.04 MB/s) - `NewsAggregatorDataset.zip' へ保存完了 [29224203/29224203]\n",
      "\n"
     ]
    }
   ],
   "source": [
    "#  データのダウンロード\n",
    "!wget https://archive.ics.uci.edu/ml/machine-learning-databases/00359/NewsAggregatorDataset.zip"
   ]
  },
  {
   "cell_type": "code",
   "execution_count": 1,
   "id": "c3138151-3ea0-4e9c-8516-c5e27830925f",
   "metadata": {},
   "outputs": [
    {
     "name": "stdout",
     "output_type": "stream",
     "text": [
      "['2pageSessions.csv', '__MACOSX/', '__MACOSX/._2pageSessions.csv', 'newsCorpora.csv', '__MACOSX/._newsCorpora.csv', 'readme.txt', '__MACOSX/._readme.txt']\n"
     ]
    }
   ],
   "source": [
    "import zipfile\n",
    "zip_f =  zipfile.ZipFile('data/NewsAggregatorDataset.zip')\n",
    "zip_list = zip_f.namelist()\n",
    "print(zip_list)"
   ]
  },
  {
   "cell_type": "code",
   "execution_count": 2,
   "id": "07e17f30-7860-418c-914d-28afe1ee2f32",
   "metadata": {},
   "outputs": [],
   "source": [
    "#  readmeを読む\n",
    "fp = zip_f.open('readme.txt', 'r')\n",
    "readme_txt = fp.read()\n",
    "txt = readme_txt.decode('shift_jis')\n",
    "#print(txt)"
   ]
  },
  {
   "cell_type": "code",
   "execution_count": 3,
   "id": "a6482b78-69d3-4f52-a071-2b646fcd0afb",
   "metadata": {},
   "outputs": [
    {
     "name": "stdout",
     "output_type": "stream",
     "text": [
      "Archive:  data/NewsAggregatorDataset.zip\n",
      "  inflating: 2pageSessions.csv       \n",
      "   creating: __MACOSX/\n",
      "  inflating: __MACOSX/._2pageSessions.csv  \n",
      "  inflating: newsCorpora.csv         \n",
      "  inflating: __MACOSX/._newsCorpora.csv  \n",
      "  inflating: readme.txt              \n",
      "  inflating: __MACOSX/._readme.txt   \n"
     ]
    }
   ],
   "source": [
    "!unzip data/NewsAggregatorDataset.zip"
   ]
  },
  {
   "cell_type": "code",
   "execution_count": 4,
   "id": "ec6a512e-5e97-4de9-add8-ac6561b2735b",
   "metadata": {},
   "outputs": [
    {
     "name": "stdout",
     "output_type": "stream",
     "text": [
      "1\tFed official says weak data caused by weather, should not slow taper\thttp://www.latimes.com/business/money/la-fi-mo-federal-reserve-plosser-stimulus-economy-20140310,0,1312750.story\\?track=rss\tLos Angeles Times\tb\tddUyU0VZz0BRneMioxUPQVP6sIxvM\twww.latimes.com\t1394470370698\n",
      "2\tFed's Charles Plosser sees high bar for change in pace of tapering\thttp://www.livemint.com/Politics/H2EvwJSK2VE6OF7iK1g3PP/Feds-Charles-Plosser-sees-high-bar-for-change-in-pace-of-ta.html\tLivemint\tb\tddUyU0VZz0BRneMioxUPQVP6sIxvM\twww.livemint.com\t1394470371207\n",
      "3\tUS open: Stocks fall after Fed official hints at accelerated tapering\thttp://www.ifamagazine.com/news/us-open-stocks-fall-after-fed-official-hints-at-accelerated-tapering-294436\tIFA Magazine\tb\tddUyU0VZz0BRneMioxUPQVP6sIxvM\twww.ifamagazine.com\t1394470371550\n",
      "4\tFed risks falling 'behind the curve', Charles Plosser says\thttp://www.ifamagazine.com/news/fed-risks-falling-behind-the-curve-charles-plosser-says-294430\tIFA Magazine\tb\tddUyU0VZz0BRneMioxUPQVP6sIxvM\twww.ifamagazine.com\t1394470371793\n",
      "5\tFed's Plosser: Nasty Weather Has Curbed Job Growth\thttp://www.moneynews.com/Economy/federal-reserve-charles-plosser-weather-job-growth/2014/03/10/id/557011\tMoneynews\tb\tddUyU0VZz0BRneMioxUPQVP6sIxvM\twww.moneynews.com\t1394470372027\n",
      "6\tPlosser: Fed May Have to Accelerate Tapering Pace\thttp://www.nasdaq.com/article/plosser-fed-may-have-to-accelerate-tapering-pace-20140310-00371\tNASDAQ\tb\tddUyU0VZz0BRneMioxUPQVP6sIxvM\twww.nasdaq.com\t1394470372212\n",
      "7\tFed's Plosser: Taper pace may be too slow\thttp://www.marketwatch.com/story/feds-plosser-taper-pace-may-be-too-slow-2014-03-10\\?reflink=MW_news_stmp\tMarketWatch\tb\tddUyU0VZz0BRneMioxUPQVP6sIxvM\twww.marketwatch.com\t1394470372405\n",
      "8\tFed's Plosser expects US unemployment to fall to 6.2% by the end of 2014\thttp://www.fxstreet.com/news/forex-news/article.aspx\\?storyid=23285020-b1b5-47ed-a8c4-96124bb91a39\tFXstreet.com\tb\tddUyU0VZz0BRneMioxUPQVP6sIxvM\twww.fxstreet.com\t1394470372615\n",
      "9\tUS jobs growth last month hit by weather:Fed President Charles Plosser\thttp://economictimes.indiatimes.com/news/international/business/us-jobs-growth-last-month-hit-by-weatherfed-president-charles-plosser/articleshow/31788000.cms\tEconomic Times\tb\tddUyU0VZz0BRneMioxUPQVP6sIxvM\teconomictimes.indiatimes.com\t1394470372792\n",
      "10\tECB unlikely to end sterilisation of SMP purchases - traders\thttp://www.iii.co.uk/news-opinion/reuters/news/152615\tInteractive Investor\tb\tdPhGU51DcrolUIMxbRm0InaHGA2XM\twww.iii.co.uk\t1394470501265\n"
     ]
    }
   ],
   "source": [
    "!head data/newsCorpora.csv"
   ]
  },
  {
   "cell_type": "code",
   "execution_count": 5,
   "id": "353dd20a-58a1-4d46-b04a-b05efadf7e8a",
   "metadata": {},
   "outputs": [],
   "source": [
    "#  FORMAT: ID \\t TITLE \\t URL \\t PUBLISHER \\t CATEGORY \\t STORY \\t HOSTNAME \\t TIMESTAMP\n",
    "#  となっているらしい\n",
    "#  pandasのheaderをこれにしてみる\n",
    "#  タブ区切りになっているのでread_table()を使う"
   ]
  },
  {
   "cell_type": "code",
   "execution_count": 1,
   "id": "7cecc063-9b00-46ad-9ff5-1b0b23d398a8",
   "metadata": {},
   "outputs": [],
   "source": [
    "#  特定のcsvファイルをpandasのデータフレームにする\n",
    "import pandas as pd\n",
    "import csv\n",
    "filepath = 'data/newsCorpora.csv'\n",
    "names = ['ID', 'TITLE', 'URL', 'PUBLISHER', 'CATEGORY', 'STORY', 'HOSTNAME', 'TIMESTAMP']\n",
    "df = pd.read_table(filepath, names=names, header=None)"
   ]
  },
  {
   "cell_type": "code",
   "execution_count": 2,
   "id": "2403e9b6-4bb9-4550-97ec-57c37358ba8e",
   "metadata": {},
   "outputs": [],
   "source": [
    "#  情報源（publisher）が”Reuters”, “Huffington Post”, “Businessweek”, “Contactmusic.com”, “Daily Mail”の事例（記事）のみを抽出する．\n",
    "ch06_df = df[(df.PUBLISHER == 'Reuters') | (df.PUBLISHER == 'Huffington Post') | (df.PUBLISHER == 'Businessweek') | (df.PUBLISHER == 'Contactmusic.com') | (df.PUBLISHER == 'Daily Mail')]"
   ]
  },
  {
   "cell_type": "code",
   "execution_count": 3,
   "id": "e9cf8640-2e78-45c0-bfe1-f76697957238",
   "metadata": {},
   "outputs": [
    {
     "data": {
      "text/html": [
       "<div>\n",
       "<style scoped>\n",
       "    .dataframe tbody tr th:only-of-type {\n",
       "        vertical-align: middle;\n",
       "    }\n",
       "\n",
       "    .dataframe tbody tr th {\n",
       "        vertical-align: top;\n",
       "    }\n",
       "\n",
       "    .dataframe thead th {\n",
       "        text-align: right;\n",
       "    }\n",
       "</style>\n",
       "<table border=\"1\" class=\"dataframe\">\n",
       "  <thead>\n",
       "    <tr style=\"text-align: right;\">\n",
       "      <th></th>\n",
       "      <th>ID</th>\n",
       "      <th>TITLE</th>\n",
       "      <th>URL</th>\n",
       "      <th>PUBLISHER</th>\n",
       "      <th>CATEGORY</th>\n",
       "      <th>STORY</th>\n",
       "      <th>HOSTNAME</th>\n",
       "      <th>TIMESTAMP</th>\n",
       "    </tr>\n",
       "  </thead>\n",
       "  <tbody>\n",
       "    <tr>\n",
       "      <th>185182</th>\n",
       "      <td>185518</td>\n",
       "      <td>UPDATE 1-Astra gets lift in Pfizer fight as US...</td>\n",
       "      <td>http://in.reuters.com/article/2014/05/06/astra...</td>\n",
       "      <td>Reuters</td>\n",
       "      <td>b</td>\n",
       "      <td>db9i9C4vy1oSPJMIukbBh6rKgQNwM</td>\n",
       "      <td>in.reuters.com</td>\n",
       "      <td>1399439904350</td>\n",
       "    </tr>\n",
       "    <tr>\n",
       "      <th>332457</th>\n",
       "      <td>332917</td>\n",
       "      <td>Pharrell, Alsina, Nyong'o early winners at BET...</td>\n",
       "      <td>http://www.reuters.com/article/2014/06/30/us-t...</td>\n",
       "      <td>Reuters</td>\n",
       "      <td>e</td>\n",
       "      <td>dbioztmajxtn9ZMTyQMMAgwGypQjM</td>\n",
       "      <td>www.reuters.com</td>\n",
       "      <td>1404095289336</td>\n",
       "    </tr>\n",
       "    <tr>\n",
       "      <th>1462</th>\n",
       "      <td>1463</td>\n",
       "      <td>GM recall probe team includes inside, outside ...</td>\n",
       "      <td>http://in.reuters.com/article/2014/03/10/autos...</td>\n",
       "      <td>Reuters</td>\n",
       "      <td>t</td>\n",
       "      <td>d6oHu5PfuD_389MzHgrh61KXagXnM</td>\n",
       "      <td>in.reuters.com</td>\n",
       "      <td>1394503087722</td>\n",
       "    </tr>\n",
       "    <tr>\n",
       "      <th>259237</th>\n",
       "      <td>259683</td>\n",
       "      <td>UPDATE 2-Amazon says quick end unlikely in dis...</td>\n",
       "      <td>http://in.reuters.com/article/2014/05/28/amazo...</td>\n",
       "      <td>Reuters</td>\n",
       "      <td>b</td>\n",
       "      <td>dQXd3AV-9nc70hMkttTBaBFPxpeAM</td>\n",
       "      <td>in.reuters.com</td>\n",
       "      <td>1401289646955</td>\n",
       "    </tr>\n",
       "    <tr>\n",
       "      <th>388702</th>\n",
       "      <td>389162</td>\n",
       "      <td>10 Things You Didnâ€™t Know About Charlie Sheen</td>\n",
       "      <td>http://www.contactmusic.com/in-depth/10-things...</td>\n",
       "      <td>Contactmusic.com</td>\n",
       "      <td>e</td>\n",
       "      <td>dafAzhctSWlLL9MxlA9MoqeG9ZqqM</td>\n",
       "      <td>www.contactmusic.com</td>\n",
       "      <td>1405644452552</td>\n",
       "    </tr>\n",
       "    <tr>\n",
       "      <th>...</th>\n",
       "      <td>...</td>\n",
       "      <td>...</td>\n",
       "      <td>...</td>\n",
       "      <td>...</td>\n",
       "      <td>...</td>\n",
       "      <td>...</td>\n",
       "      <td>...</td>\n",
       "      <td>...</td>\n",
       "    </tr>\n",
       "    <tr>\n",
       "      <th>22752</th>\n",
       "      <td>22753</td>\n",
       "      <td>Mick Jagger Issues Single Statement Regarding ...</td>\n",
       "      <td>http://www.contactmusic.com/article/mick-jagge...</td>\n",
       "      <td>Contactmusic.com</td>\n",
       "      <td>e</td>\n",
       "      <td>d00pSI3VqDUL5wMEU6vdcq2VFkgVM</td>\n",
       "      <td>www.contactmusic.com</td>\n",
       "      <td>1395237073512</td>\n",
       "    </tr>\n",
       "    <tr>\n",
       "      <th>360386</th>\n",
       "      <td>360846</td>\n",
       "      <td>Pictured: The moment David Arquette proposes t...</td>\n",
       "      <td>http://www.dailymail.co.uk/tvshowbiz/article-2...</td>\n",
       "      <td>Daily Mail</td>\n",
       "      <td>e</td>\n",
       "      <td>d2e-11CoF-Ty_gMNknZmZ4ObmofNM</td>\n",
       "      <td>www.dailymail.co.uk</td>\n",
       "      <td>1404590970930</td>\n",
       "    </tr>\n",
       "    <tr>\n",
       "      <th>35799</th>\n",
       "      <td>35800</td>\n",
       "      <td>The Climate Post: Reports, Website Document Ef...</td>\n",
       "      <td>http://www.huffingtonpost.com/tim-profeta/the-...</td>\n",
       "      <td>Huffington Post</td>\n",
       "      <td>t</td>\n",
       "      <td>deNjFLy_uspUgDMEceMu1NZru1gSM</td>\n",
       "      <td>www.huffingtonpost.com</td>\n",
       "      <td>1395621550322</td>\n",
       "    </tr>\n",
       "    <tr>\n",
       "      <th>161682</th>\n",
       "      <td>162018</td>\n",
       "      <td>Dozens of lost Warhol artworks discovered on A...</td>\n",
       "      <td>http://www.dailymail.co.uk/news/article-261207...</td>\n",
       "      <td>Daily Mail</td>\n",
       "      <td>e</td>\n",
       "      <td>disIIjkl9ktVZZMpG7VrlACi26qLM</td>\n",
       "      <td>www.dailymail.co.uk</td>\n",
       "      <td>1398409620072</td>\n",
       "    </tr>\n",
       "    <tr>\n",
       "      <th>165815</th>\n",
       "      <td>166151</td>\n",
       "      <td>Wounded Ukrainian mayor 'stable' in Israeli ho...</td>\n",
       "      <td>http://www.reuters.com/article/2014/04/29/us-u...</td>\n",
       "      <td>Reuters</td>\n",
       "      <td>b</td>\n",
       "      <td>diF20GdN8avuFQMwsrPB9CbU6OOdM</td>\n",
       "      <td>www.reuters.com</td>\n",
       "      <td>1398772290037</td>\n",
       "    </tr>\n",
       "  </tbody>\n",
       "</table>\n",
       "<p>13340 rows × 8 columns</p>\n",
       "</div>"
      ],
      "text/plain": [
       "            ID                                              TITLE   \n",
       "185182  185518  UPDATE 1-Astra gets lift in Pfizer fight as US...  \\\n",
       "332457  332917  Pharrell, Alsina, Nyong'o early winners at BET...   \n",
       "1462      1463  GM recall probe team includes inside, outside ...   \n",
       "259237  259683  UPDATE 2-Amazon says quick end unlikely in dis...   \n",
       "388702  389162    10 Things You Didnâ€™t Know About Charlie Sheen   \n",
       "...        ...                                                ...   \n",
       "22752    22753  Mick Jagger Issues Single Statement Regarding ...   \n",
       "360386  360846  Pictured: The moment David Arquette proposes t...   \n",
       "35799    35800  The Climate Post: Reports, Website Document Ef...   \n",
       "161682  162018  Dozens of lost Warhol artworks discovered on A...   \n",
       "165815  166151  Wounded Ukrainian mayor 'stable' in Israeli ho...   \n",
       "\n",
       "                                                      URL         PUBLISHER   \n",
       "185182  http://in.reuters.com/article/2014/05/06/astra...           Reuters  \\\n",
       "332457  http://www.reuters.com/article/2014/06/30/us-t...           Reuters   \n",
       "1462    http://in.reuters.com/article/2014/03/10/autos...           Reuters   \n",
       "259237  http://in.reuters.com/article/2014/05/28/amazo...           Reuters   \n",
       "388702  http://www.contactmusic.com/in-depth/10-things...  Contactmusic.com   \n",
       "...                                                   ...               ...   \n",
       "22752   http://www.contactmusic.com/article/mick-jagge...  Contactmusic.com   \n",
       "360386  http://www.dailymail.co.uk/tvshowbiz/article-2...        Daily Mail   \n",
       "35799   http://www.huffingtonpost.com/tim-profeta/the-...   Huffington Post   \n",
       "161682  http://www.dailymail.co.uk/news/article-261207...        Daily Mail   \n",
       "165815  http://www.reuters.com/article/2014/04/29/us-u...           Reuters   \n",
       "\n",
       "       CATEGORY                          STORY                HOSTNAME   \n",
       "185182        b  db9i9C4vy1oSPJMIukbBh6rKgQNwM          in.reuters.com  \\\n",
       "332457        e  dbioztmajxtn9ZMTyQMMAgwGypQjM         www.reuters.com   \n",
       "1462          t  d6oHu5PfuD_389MzHgrh61KXagXnM          in.reuters.com   \n",
       "259237        b  dQXd3AV-9nc70hMkttTBaBFPxpeAM          in.reuters.com   \n",
       "388702        e  dafAzhctSWlLL9MxlA9MoqeG9ZqqM    www.contactmusic.com   \n",
       "...         ...                            ...                     ...   \n",
       "22752         e  d00pSI3VqDUL5wMEU6vdcq2VFkgVM    www.contactmusic.com   \n",
       "360386        e  d2e-11CoF-Ty_gMNknZmZ4ObmofNM     www.dailymail.co.uk   \n",
       "35799         t  deNjFLy_uspUgDMEceMu1NZru1gSM  www.huffingtonpost.com   \n",
       "161682        e  disIIjkl9ktVZZMpG7VrlACi26qLM     www.dailymail.co.uk   \n",
       "165815        b  diF20GdN8avuFQMwsrPB9CbU6OOdM         www.reuters.com   \n",
       "\n",
       "            TIMESTAMP  \n",
       "185182  1399439904350  \n",
       "332457  1404095289336  \n",
       "1462    1394503087722  \n",
       "259237  1401289646955  \n",
       "388702  1405644452552  \n",
       "...               ...  \n",
       "22752   1395237073512  \n",
       "360386  1404590970930  \n",
       "35799   1395621550322  \n",
       "161682  1398409620072  \n",
       "165815  1398772290037  \n",
       "\n",
       "[13340 rows x 8 columns]"
      ]
     },
     "execution_count": 3,
     "metadata": {},
     "output_type": "execute_result"
    }
   ],
   "source": [
    "#  ランダムに並び替える\n",
    "ch06_df_random = ch06_df.sample(frac = 1)\n",
    "ch06_df_random"
   ]
  },
  {
   "cell_type": "code",
   "execution_count": 4,
   "id": "b168eb48-9c65-42b9-a1b3-a3618058786e",
   "metadata": {},
   "outputs": [],
   "source": [
    "#  まずは分割\n",
    "from sklearn.model_selection import train_test_split\n",
    "#  学習データと評価用データ（検証＆評価）に分割\n",
    "ch06_train, ch06_test = train_test_split(ch06_df_random, train_size=0.8)\n",
    "#  評価用データを検証と評価に分割\n",
    "ch06_test, ch06_valid = train_test_split(ch06_test, test_size=0.5)"
   ]
  },
  {
   "cell_type": "code",
   "execution_count": 5,
   "id": "614dfedd-f208-4a9e-8f79-8fba8125af3c",
   "metadata": {},
   "outputs": [
    {
     "name": "stdout",
     "output_type": "stream",
     "text": [
      "10672\n",
      "1334\n",
      "1334\n"
     ]
    }
   ],
   "source": [
    "print(len(ch06_train))\n",
    "print(len(ch06_test))\n",
    "print(len(ch06_valid))"
   ]
  },
  {
   "cell_type": "code",
   "execution_count": 8,
   "id": "e7dfa127-3d7c-4372-bd6f-2e7357c36114",
   "metadata": {},
   "outputs": [
    {
     "data": {
      "text/plain": [
       "CATEGORY\n",
       "b    4526\n",
       "e    4208\n",
       "t    1212\n",
       "m     726\n",
       "Name: count, dtype: int64"
      ]
     },
     "execution_count": 8,
     "metadata": {},
     "output_type": "execute_result"
    }
   ],
   "source": [
    "ch06_train.value_counts('CATEGORY')"
   ]
  },
  {
   "cell_type": "code",
   "execution_count": 9,
   "id": "b3ed658e-dcee-41ea-9cef-c80b48dc1364",
   "metadata": {},
   "outputs": [],
   "source": [
    "ch06_train[['TITLE', 'CATEGORY']].to_csv(\"work/train.txt\", sep = '\\t', header=None, index=False)\n",
    "ch06_test[['TITLE', 'CATEGORY']].to_csv(\"work/test.txt\", sep = '\\t', header=None, index=False)\n",
    "ch06_valid[['TITLE', 'CATEGORY']].to_csv(\"work/valid.txt\", sep = '\\t', header=None, index=False)"
   ]
  },
  {
   "cell_type": "markdown",
   "id": "0c11e78f-f678-40db-92f6-89f5960e78f6",
   "metadata": {},
   "source": [
    "#  51. 特徴量抽出\n",
    "\n",
    "学習データ，検証データ，評価データから特徴量を抽出し，それぞれtrain.feature.txt，valid.feature.txt，test.feature.txtというファイル名で保存せよ． なお，カテゴリ分類に有用そうな特徴量は各自で自由に設計せよ．記事の見出しを単語列に変換したものが最低限のベースラインとなるであろう．"
   ]
  },
  {
   "cell_type": "code",
   "execution_count": 52,
   "id": "7fc39f29-db19-44bc-b108-483b522d8942",
   "metadata": {},
   "outputs": [
    {
     "name": "stdout",
     "output_type": "stream",
     "text": [
      "<class 'scipy.sparse._csr.csr_matrix'>\n",
      "[[0 0 0 ... 0 0 0]\n",
      " [0 0 0 ... 0 0 0]\n",
      " [0 0 0 ... 0 0 0]\n",
      " ...\n",
      " [0 0 0 ... 0 0 0]\n",
      " [0 0 0 ... 0 0 0]\n",
      " [0 0 0 ... 0 0 0]]\n"
     ]
    }
   ],
   "source": [
    "from sklearn.feature_extraction.text import CountVectorizer\n",
    "train_df = pd.read_table(\"work/train.txt\", names=['TITLE', 'CATEGORY'], header=None)\n",
    "valid_df = pd.read_table(\"work/valid.txt\", names=['TITLE', 'CATEGORY'], header=None)\n",
    "test_df = pd.read_table(\"work/test.txt\", names=['TITLE', 'CATEGORY'], header=None)\n",
    "\n",
    "# ベクトル化\n",
    "count_vec = CountVectorizer(stop_words=\"english\")\n",
    "count_vec = count_vec.fit(train_df['TITLE'])\n",
    "\n",
    "X_train = count_vec.transform(train_df['TITLE'])\n",
    "X_valid = count_vec.transform(valid_df['TITLE'])\n",
    "X_test = count_vec.transform(test_df['TITLE'])\n",
    "print(type(X_train))\n",
    "print(X_train.toarray())"
   ]
  },
  {
   "cell_type": "code",
   "execution_count": 53,
   "id": "c4c0b696-8fa6-4dc5-9e39-48c0032cb18e",
   "metadata": {},
   "outputs": [],
   "source": [
    "#. 行列として保存\n",
    "import numpy as np\n",
    "\n",
    "np.savetxt('work/train.feature.txt', X_train.toarray())\n",
    "np.savetxt('work/valid.feature.txt', X_valid.toarray())\n",
    "np.savetxt('work/test.feature.txt', X_test.toarray())"
   ]
  },
  {
   "cell_type": "code",
   "execution_count": 54,
   "id": "f6f08db9-cc80-4f24-8fe5-56e272e76f5e",
   "metadata": {},
   "outputs": [
    {
     "data": {
      "text/plain": [
       "CATEGORY\n",
       "b    4526\n",
       "e    4208\n",
       "t    1212\n",
       "m     726\n",
       "Name: count, dtype: int64"
      ]
     },
     "execution_count": 54,
     "metadata": {},
     "output_type": "execute_result"
    }
   ],
   "source": [
    "#pd.DataFrame(X_train.toarray(), columns=count_vec.get_feature_names_out())\n",
    "train_df.value_counts('CATEGORY')"
   ]
  },
  {
   "cell_type": "code",
   "execution_count": 55,
   "id": "3250f21e-06c9-462f-8b96-1d3ea19617e5",
   "metadata": {},
   "outputs": [
    {
     "name": "stdout",
     "output_type": "stream",
     "text": [
      "[array(['frankie', 'knuckles', 'letter', 'obamas', 'salute', 'trailblazer'],\n",
      "      dtype='<U27')]\n",
      "[[0. 0. 0. ... 0. 0. 0.]]\n"
     ]
    }
   ],
   "source": [
    "# 　できているか確認\n",
    "test = np.loadtxt('work/train.feature.txt')\n",
    "print(count_vec.inverse_transform(test[:1]))\n",
    "print(test[:1])"
   ]
  },
  {
   "cell_type": "markdown",
   "id": "912e696e-70a8-4580-b649-47e59221b550",
   "metadata": {},
   "source": [
    "#  52. 学習\n",
    "\n",
    "51で構築した学習データを用いて，ロジスティック回帰モデルを学習せよ．"
   ]
  },
  {
   "cell_type": "code",
   "execution_count": 56,
   "id": "400298b3-445f-4e7f-9e1a-14cb01220d53",
   "metadata": {},
   "outputs": [],
   "source": [
    "#　　数値変換\n",
    "def category_convert(x):\n",
    "    if x == 'b':\n",
    "        return 0\n",
    "    elif x == 'e':\n",
    "        return 1\n",
    "    elif x == 't':\n",
    "        return 2\n",
    "    elif x == 'm':\n",
    "        return 3\n",
    "    else:\n",
    "        assert Print('error')"
   ]
  },
  {
   "cell_type": "code",
   "execution_count": 57,
   "id": "988f37f7-1f95-4dee-a939-ab9bb4ad6f8f",
   "metadata": {},
   "outputs": [],
   "source": [
    "#  それを訓練データに適応させて変換する\n",
    "X_train = np.loadtxt('work/train.feature.txt')\n",
    "Y_train = train_df[\"CATEGORY\"].apply(category_convert)"
   ]
  },
  {
   "cell_type": "code",
   "execution_count": 58,
   "id": "7a2d8a9e-7b35-439e-b100-57a0ee96a949",
   "metadata": {},
   "outputs": [
    {
     "data": {
      "text/html": [
       "<style>#sk-container-id-3 {color: black;background-color: white;}#sk-container-id-3 pre{padding: 0;}#sk-container-id-3 div.sk-toggleable {background-color: white;}#sk-container-id-3 label.sk-toggleable__label {cursor: pointer;display: block;width: 100%;margin-bottom: 0;padding: 0.3em;box-sizing: border-box;text-align: center;}#sk-container-id-3 label.sk-toggleable__label-arrow:before {content: \"▸\";float: left;margin-right: 0.25em;color: #696969;}#sk-container-id-3 label.sk-toggleable__label-arrow:hover:before {color: black;}#sk-container-id-3 div.sk-estimator:hover label.sk-toggleable__label-arrow:before {color: black;}#sk-container-id-3 div.sk-toggleable__content {max-height: 0;max-width: 0;overflow: hidden;text-align: left;background-color: #f0f8ff;}#sk-container-id-3 div.sk-toggleable__content pre {margin: 0.2em;color: black;border-radius: 0.25em;background-color: #f0f8ff;}#sk-container-id-3 input.sk-toggleable__control:checked~div.sk-toggleable__content {max-height: 200px;max-width: 100%;overflow: auto;}#sk-container-id-3 input.sk-toggleable__control:checked~label.sk-toggleable__label-arrow:before {content: \"▾\";}#sk-container-id-3 div.sk-estimator input.sk-toggleable__control:checked~label.sk-toggleable__label {background-color: #d4ebff;}#sk-container-id-3 div.sk-label input.sk-toggleable__control:checked~label.sk-toggleable__label {background-color: #d4ebff;}#sk-container-id-3 input.sk-hidden--visually {border: 0;clip: rect(1px 1px 1px 1px);clip: rect(1px, 1px, 1px, 1px);height: 1px;margin: -1px;overflow: hidden;padding: 0;position: absolute;width: 1px;}#sk-container-id-3 div.sk-estimator {font-family: monospace;background-color: #f0f8ff;border: 1px dotted black;border-radius: 0.25em;box-sizing: border-box;margin-bottom: 0.5em;}#sk-container-id-3 div.sk-estimator:hover {background-color: #d4ebff;}#sk-container-id-3 div.sk-parallel-item::after {content: \"\";width: 100%;border-bottom: 1px solid gray;flex-grow: 1;}#sk-container-id-3 div.sk-label:hover label.sk-toggleable__label {background-color: #d4ebff;}#sk-container-id-3 div.sk-serial::before {content: \"\";position: absolute;border-left: 1px solid gray;box-sizing: border-box;top: 0;bottom: 0;left: 50%;z-index: 0;}#sk-container-id-3 div.sk-serial {display: flex;flex-direction: column;align-items: center;background-color: white;padding-right: 0.2em;padding-left: 0.2em;position: relative;}#sk-container-id-3 div.sk-item {position: relative;z-index: 1;}#sk-container-id-3 div.sk-parallel {display: flex;align-items: stretch;justify-content: center;background-color: white;position: relative;}#sk-container-id-3 div.sk-item::before, #sk-container-id-3 div.sk-parallel-item::before {content: \"\";position: absolute;border-left: 1px solid gray;box-sizing: border-box;top: 0;bottom: 0;left: 50%;z-index: -1;}#sk-container-id-3 div.sk-parallel-item {display: flex;flex-direction: column;z-index: 1;position: relative;background-color: white;}#sk-container-id-3 div.sk-parallel-item:first-child::after {align-self: flex-end;width: 50%;}#sk-container-id-3 div.sk-parallel-item:last-child::after {align-self: flex-start;width: 50%;}#sk-container-id-3 div.sk-parallel-item:only-child::after {width: 0;}#sk-container-id-3 div.sk-dashed-wrapped {border: 1px dashed gray;margin: 0 0.4em 0.5em 0.4em;box-sizing: border-box;padding-bottom: 0.4em;background-color: white;}#sk-container-id-3 div.sk-label label {font-family: monospace;font-weight: bold;display: inline-block;line-height: 1.2em;}#sk-container-id-3 div.sk-label-container {text-align: center;}#sk-container-id-3 div.sk-container {/* jupyter's `normalize.less` sets `[hidden] { display: none; }` but bootstrap.min.css set `[hidden] { display: none !important; }` so we also need the `!important` here to be able to override the default hidden behavior on the sphinx rendered scikit-learn.org. See: https://github.com/scikit-learn/scikit-learn/issues/21755 */display: inline-block !important;position: relative;}#sk-container-id-3 div.sk-text-repr-fallback {display: none;}</style><div id=\"sk-container-id-3\" class=\"sk-top-container\"><div class=\"sk-text-repr-fallback\"><pre>LogisticRegression(max_iter=1000)</pre><b>In a Jupyter environment, please rerun this cell to show the HTML representation or trust the notebook. <br />On GitHub, the HTML representation is unable to render, please try loading this page with nbviewer.org.</b></div><div class=\"sk-container\" hidden><div class=\"sk-item\"><div class=\"sk-estimator sk-toggleable\"><input class=\"sk-toggleable__control sk-hidden--visually\" id=\"sk-estimator-id-3\" type=\"checkbox\" checked><label for=\"sk-estimator-id-3\" class=\"sk-toggleable__label sk-toggleable__label-arrow\">LogisticRegression</label><div class=\"sk-toggleable__content\"><pre>LogisticRegression(max_iter=1000)</pre></div></div></div></div></div>"
      ],
      "text/plain": [
       "LogisticRegression(max_iter=1000)"
      ]
     },
     "execution_count": 58,
     "metadata": {},
     "output_type": "execute_result"
    }
   ],
   "source": [
    "from sklearn.linear_model import LogisticRegression\n",
    "model = LogisticRegression(max_iter=1000) \n",
    "model.fit(X_train, Y_train)"
   ]
  },
  {
   "cell_type": "code",
   "execution_count": 59,
   "id": "f2d9e645-d2c9-4096-90c3-3dfb7a002e0b",
   "metadata": {},
   "outputs": [
    {
     "name": "stdout",
     "output_type": "stream",
     "text": [
      "0.9951274362818591\n"
     ]
    }
   ],
   "source": [
    "#  精度を出してみる\n",
    "print(model.score(X_train, Y_train))"
   ]
  },
  {
   "cell_type": "markdown",
   "id": "44e831f9-bc39-46c7-905d-72d6c898e6a2",
   "metadata": {},
   "source": [
    "#  53. 予測\n",
    "\n",
    "52で学習したロジスティック回帰モデルを用い，与えられた記事見出しからカテゴリとその予測確率を計算するプログラムを実装せよ．"
   ]
  },
  {
   "cell_type": "code",
   "execution_count": 2,
   "id": "ffae8257-7fed-462c-844c-8ed45e216959",
   "metadata": {},
   "outputs": [
    {
     "ename": "NameError",
     "evalue": "name 'model' is not defined",
     "output_type": "error",
     "traceback": [
      "\u001b[0;31m---------------------------------------------------------------------------\u001b[0m",
      "\u001b[0;31mNameError\u001b[0m                                 Traceback (most recent call last)",
      "Input \u001b[0;32mIn [2]\u001b[0m, in \u001b[0;36m<cell line: 2>\u001b[0;34m()\u001b[0m\n\u001b[1;32m      1\u001b[0m \u001b[38;5;66;03m#  予測\u001b[39;00m\n\u001b[0;32m----> 2\u001b[0m pred \u001b[38;5;241m=\u001b[39m \u001b[43mmodel\u001b[49m\u001b[38;5;241m.\u001b[39mpredict(X_train)  \n\u001b[1;32m      3\u001b[0m \u001b[38;5;66;03m# 確率算出の際は、predict_proba()メソッドを利用\u001b[39;00m\n\u001b[1;32m      4\u001b[0m \u001b[38;5;66;03m#  ラベル(クラス)の確率を知りたいケース\u001b[39;00m\n\u001b[1;32m      5\u001b[0m prob \u001b[38;5;241m=\u001b[39m model\u001b[38;5;241m.\u001b[39mpredict_proba(X_train)\n",
      "\u001b[0;31mNameError\u001b[0m: name 'model' is not defined"
     ]
    }
   ],
   "source": [
    "#  予測\n",
    "pred = model.predict(X_train)  \n",
    "# 確率算出の際は、predict_proba()メソッドを利用\n",
    "#  ラベル(クラス)の確率を知りたいケース\n",
    "prob = model.predict_proba(X_train)"
   ]
  },
  {
   "cell_type": "code",
   "execution_count": 1,
   "id": "36b61fb4-2ad9-4998-880c-ce784cd4a5b6",
   "metadata": {},
   "outputs": [
    {
     "ename": "NameError",
     "evalue": "name 'pred' is not defined",
     "output_type": "error",
     "traceback": [
      "\u001b[0;31m---------------------------------------------------------------------------\u001b[0m",
      "\u001b[0;31mNameError\u001b[0m                                 Traceback (most recent call last)",
      "Input \u001b[0;32mIn [1]\u001b[0m, in \u001b[0;36m<cell line: 1>\u001b[0;34m()\u001b[0m\n\u001b[0;32m----> 1\u001b[0m \u001b[38;5;28mprint\u001b[39m(\u001b[43mpred\u001b[49m)\n\u001b[1;32m      2\u001b[0m \u001b[38;5;28mprint\u001b[39m(\u001b[38;5;28mlen\u001b[39m(prob))\n",
      "\u001b[0;31mNameError\u001b[0m: name 'pred' is not defined"
     ]
    }
   ],
   "source": [
    "print(pred)\n",
    "print(prob)"
   ]
  },
  {
   "cell_type": "markdown",
   "id": "9afda15e-e5c0-41b6-bc10-76ecc5059cf3",
   "metadata": {},
   "source": [
    "#  54. 正解率の計測\n",
    "\n",
    "52で学習したロジスティック回帰モデルの正解率を，学習データおよび評価データ上で計測せよ．"
   ]
  },
  {
   "cell_type": "code",
   "execution_count": 63,
   "id": "188f7792-6f3f-49c2-a0d9-25f7185c7977",
   "metadata": {},
   "outputs": [],
   "source": [
    "#  数値変換\n",
    "Y_test = test_df[\"CATEGORY\"].apply(category_convert)\n",
    "Y_valid = valid_df[\"CATEGORY\"].apply(category_convert)\n",
    "#  明示的に\n",
    "X_train = np.loadtxt('work/train.feature.txt')\n",
    "X_test = np.loadtxt('work/test.feature.txt')"
   ]
  },
  {
   "cell_type": "code",
   "execution_count": 64,
   "id": "a62382bd-1473-4405-8feb-142aab35e551",
   "metadata": {},
   "outputs": [
    {
     "name": "stdout",
     "output_type": "stream",
     "text": [
      "train_accuracy:  0.9951274362818591\n",
      "test_accuracy:  0.9190404797601199\n"
     ]
    }
   ],
   "source": [
    "from sklearn.metrics import accuracy_score\n",
    "Y_train_pred = model.predict(X_train)  \n",
    "Y_test_pred = model.predict(X_test)\n",
    "# 正解率\n",
    "print('train_accuracy: ',  accuracy_score(Y_train, Y_train_pred))\n",
    "print('test_accuracy: ',  accuracy_score(Y_test, Y_test_pred))"
   ]
  },
  {
   "cell_type": "code",
   "execution_count": 65,
   "id": "ae381fbe-1a5a-4fc0-84e7-4614a7693229",
   "metadata": {},
   "outputs": [
    {
     "name": "stdout",
     "output_type": "stream",
     "text": [
      "[1 0 0 ... 3 1 1]\n"
     ]
    }
   ],
   "source": [
    "print(Y_train_pred)"
   ]
  },
  {
   "cell_type": "code",
   "execution_count": 66,
   "id": "13affa5e-1a38-4ad0-a9b9-fd26785d3325",
   "metadata": {},
   "outputs": [
    {
     "name": "stdout",
     "output_type": "stream",
     "text": [
      "[1 1 0 ... 0 0 1]\n"
     ]
    }
   ],
   "source": [
    "print(Y_test_pred)"
   ]
  },
  {
   "cell_type": "code",
   "execution_count": 67,
   "id": "926a1990-c629-4869-9dfb-bec89d373cb0",
   "metadata": {},
   "outputs": [
    {
     "name": "stdout",
     "output_type": "stream",
     "text": [
      "[[0. 0. 0. ... 0. 0. 0.]\n",
      " [0. 0. 0. ... 0. 0. 0.]\n",
      " [0. 0. 0. ... 0. 0. 0.]\n",
      " ...\n",
      " [0. 0. 0. ... 0. 0. 0.]\n",
      " [0. 0. 0. ... 0. 0. 0.]\n",
      " [0. 0. 0. ... 0. 0. 0.]]\n"
     ]
    }
   ],
   "source": [
    "print(X_train)"
   ]
  },
  {
   "cell_type": "code",
   "execution_count": 68,
   "id": "ac854875-3126-4d87-b23a-096c27edec42",
   "metadata": {},
   "outputs": [
    {
     "name": "stdout",
     "output_type": "stream",
     "text": [
      "[[0. 0. 0. ... 0. 0. 0.]\n",
      " [0. 0. 0. ... 0. 0. 0.]\n",
      " [0. 0. 0. ... 0. 0. 0.]\n",
      " ...\n",
      " [0. 0. 0. ... 0. 0. 0.]\n",
      " [0. 0. 0. ... 0. 0. 0.]\n",
      " [0. 0. 0. ... 0. 0. 0.]]\n"
     ]
    }
   ],
   "source": [
    "print(X_test)"
   ]
  },
  {
   "cell_type": "code",
   "execution_count": null,
   "id": "eebc29de-a65a-4f47-885c-e19dadff5640",
   "metadata": {},
   "outputs": [],
   "source": []
  }
 ],
 "metadata": {
  "kernelspec": {
   "display_name": "Python 3 (ipykernel)",
   "language": "python",
   "name": "python3"
  },
  "language_info": {
   "codemirror_mode": {
    "name": "ipython",
    "version": 3
   },
   "file_extension": ".py",
   "mimetype": "text/x-python",
   "name": "python",
   "nbconvert_exporter": "python",
   "pygments_lexer": "ipython3",
   "version": "3.8.11"
  }
 },
 "nbformat": 4,
 "nbformat_minor": 5
}
