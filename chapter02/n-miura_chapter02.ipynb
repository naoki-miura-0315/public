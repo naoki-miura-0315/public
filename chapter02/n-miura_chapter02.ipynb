{
 "cells": [
  {
   "cell_type": "markdown",
   "id": "d31845fd-9162-40e7-a294-a685be5fbce3",
   "metadata": {},
   "source": [
    "第2章: UNIXコマンド\n",
    "\n",
    "popular-names.txtは，アメリカで生まれた赤ちゃんの「名前」「性別」「人数」「年」をタブ区切り形式で格納したファイルである．以下の処理を行うプログラムを作成し，popular-names.txtを入力ファイルとして実行せよ．さらに，同様の処理をUNIXコマンドでも実行し，プログラムの実行結果を確認せよ．\n"
   ]
  },
  {
   "cell_type": "code",
   "execution_count": 1,
   "id": "04d7d46b-a1a3-48c1-a536-4f9f5a43e989",
   "metadata": {},
   "outputs": [
    {
     "name": "stdout",
     "output_type": "stream",
     "text": [
      "--2023-03-14 13:39:09--  https://nlp100.github.io/data/popular-names.txt\n",
      "nlp100.github.io (nlp100.github.io) をDNSに問いあわせています... 185.199.111.153, 185.199.110.153, 185.199.109.153, ...\n",
      "nlp100.github.io (nlp100.github.io)|185.199.111.153|:443 に接続しています... 接続しました。\n",
      "HTTP による接続要求を送信しました、応答を待っています... 200 OK\n",
      "長さ: 55026 (54K) [text/plain]\n",
      "`popular-names.txt' に保存中\n",
      "\n",
      "popular-names.txt   100%[===================>]  53.74K  --.-KB/s 時間 0.03s      \n",
      "\n",
      "2023-03-14 13:39:10 (1.62 MB/s) - `popular-names.txt' へ保存完了 [55026/55026]\n",
      "\n"
     ]
    }
   ],
   "source": [
    "#ファイルのダウンロード\n",
    "!wget https://nlp100.github.io/data/popular-names.txt"
   ]
  },
  {
   "cell_type": "markdown",
   "id": "360468bc-7eb9-466d-acc1-427a9f004d5d",
   "metadata": {},
   "source": [
    "#10. 行数のカウント\n",
    "\n",
    "行数をカウントせよ．確認にはwcコマンドを用いよ"
   ]
  },
  {
   "cell_type": "code",
   "execution_count": 9,
   "id": "540b756a-30f9-4b0f-aa55-f652b620afd1",
   "metadata": {},
   "outputs": [
    {
     "data": {
      "text/plain": [
       "2780"
      ]
     },
     "execution_count": 9,
     "metadata": {},
     "output_type": "execute_result"
    }
   ],
   "source": [
    "def line_count(txt_file):\n",
    "    with open(txt_file) as f:\n",
    "        c = 0\n",
    "        for line in f:\n",
    "            c += 1\n",
    "        return c\n",
    "\n",
    "#実装\n",
    "txt_file = 'popular-names.txt'\n",
    "line_count(txt_file)"
   ]
  },
  {
   "cell_type": "code",
   "execution_count": 8,
   "id": "ee52de14-1a6a-4291-88bf-80746289cd28",
   "metadata": {},
   "outputs": [
    {
     "name": "stdout",
     "output_type": "stream",
     "text": [
      "    2780   11120   55026 popular-names.txt\n"
     ]
    }
   ],
   "source": [
    "!wc popular-names.txt"
   ]
  },
  {
   "cell_type": "markdown",
   "id": "3e5e04c6-8fd9-4c8e-a49b-67d79be38ff6",
   "metadata": {},
   "source": [
    "#11. タブをスペースに置換\n",
    "\n",
    "タブ1文字につきスペース1文字に置換せよ．確認にはsedコマンド，trコマンド，もしくはexpandコマンドを用いよ．"
   ]
  },
  {
   "cell_type": "code",
   "execution_count": 14,
   "id": "4dbac643-1814-4ed2-81ee-782618d13501",
   "metadata": {},
   "outputs": [
    {
     "name": "stdout",
     "output_type": "stream",
     "text": [
      "Mary F 7065 1880\n",
      "Anna F 2604 1880\n",
      "Emma F 2003 1880\n",
      "Elizabeth F 1939 1880\n",
      "Minnie F 1746 1880\n",
      "Margaret F 1578 1880\n",
      "Ida F 1472 1880\n",
      "Alice F 1414 1880\n",
      "Bertha F 1320 1880\n",
      "Sarah F 1288 1880\n",
      "John M 9655 1880\n"
     ]
    }
   ],
   "source": [
    "txt_file = 'data/popular-names.txt'\n",
    "with open(txt_file) as f:\n",
    "    for i, line in enumerate(f):\n",
    "        line = line.replace('\\t', ' ')\n",
    "        print(line.rstrip())\n",
    "        if i == 10:\n",
    "            break"
   ]
  },
  {
   "cell_type": "code",
   "execution_count": 23,
   "id": "21673f39-1501-4f94-91c7-d18ae2aa63db",
   "metadata": {},
   "outputs": [
    {
     "name": "stdout",
     "output_type": "stream",
     "text": [
      "Mary\tF\t7065\t1880\n",
      "Anna\tF\t2604\t1880\n",
      "Emma\tF\t2003\t1880\n",
      "Elizabeth\tF\t1939\t1880\n",
      "Minnie\tF\t1746\t1880\n",
      "Margaret\tF\t1578\t1880\n",
      "Ida\tF\t1472\t1880\n",
      "Alice\tF\t1414\t1880\n",
      "Bertha\tF\t1320\t1880\n",
      "Sarah\tF\t1288\t1880\n",
      "sed: stdout: Broken pipe\n"
     ]
    }
   ],
   "source": [
    "!sed -e s/$\\t/\\/g data/popular-names.txt |head"
   ]
  },
  {
   "cell_type": "markdown",
   "id": "ef7391bb-7564-4322-b1aa-8df74d2d4e7a",
   "metadata": {},
   "source": [
    "#12. 1列目をcol1.txtに，2列目をcol2.txtに保存\n",
    "\n",
    "各行の1列目だけを抜き出したものをcol1.txtに，2列目だけを抜き出したものをcol2.txtとしてファイルに保存せよ．確認にはcutコマンドを用いよ．"
   ]
  },
  {
   "cell_type": "code",
   "execution_count": 24,
   "id": "3998e14f-7201-422b-8db0-4b5efbcea686",
   "metadata": {},
   "outputs": [],
   "source": [
    "with open('work/col1.txt', 'w') as f1, open('work/col2.txt', 'w') as f2:\n",
    "    for line in open('data/popular-names.txt'):\n",
    "        line  = line.rstrip().split('\\t')\n",
    "        f1.write(line[0] + \"\\n\")\n",
    "        f2.write(line[1]  + \"\\n\")"
   ]
  },
  {
   "cell_type": "code",
   "execution_count": 27,
   "id": "ff12e4a6-629c-43f7-af8c-074da6e199bb",
   "metadata": {},
   "outputs": [
    {
     "name": "stdout",
     "output_type": "stream",
     "text": [
      "F\n",
      "F\n",
      "F\n",
      "F\n",
      "F\n",
      "F\n",
      "F\n",
      "F\n",
      "F\n",
      "F\n"
     ]
    }
   ],
   "source": [
    "!head work/col2.txt"
   ]
  },
  {
   "cell_type": "code",
   "execution_count": 26,
   "id": "9f335df1-ee0f-46c5-b682-8e542f4f75c5",
   "metadata": {},
   "outputs": [
    {
     "name": "stdout",
     "output_type": "stream",
     "text": [
      "F\n",
      "F\n",
      "F\n",
      "F\n",
      "F\n",
      "F\n",
      "F\n",
      "F\n",
      "F\n",
      "F\n"
     ]
    }
   ],
   "source": [
    "!cut -f 2 data/popular-names.txt | head"
   ]
  },
  {
   "cell_type": "code",
   "execution_count": 25,
   "id": "ac76e418-0baa-43a0-8f94-c4b072f8d7a0",
   "metadata": {},
   "outputs": [
    {
     "name": "stdout",
     "output_type": "stream",
     "text": [
      "Mary\n",
      "Anna\n",
      "Emma\n",
      "Elizabeth\n",
      "Minnie\n",
      "Margaret\n",
      "Ida\n",
      "Alice\n",
      "Bertha\n",
      "Sarah\n"
     ]
    }
   ],
   "source": [
    "!cut -f 1 data/popular-names.txt | head"
   ]
  },
  {
   "cell_type": "markdown",
   "id": "4a9b4071-ac98-4ab1-ac5e-9577f47a4336",
   "metadata": {},
   "source": [
    "#13. col1.txtとcol2.txtをマージ\n",
    "\n",
    "12で作ったcol1.txtとcol2.txtを結合し，元のファイルの1列目と2列目をタブ区切りで並べたテキストファイルを作成せよ．確認にはpasteコマンドを用いよ．"
   ]
  },
  {
   "cell_type": "code",
   "execution_count": 41,
   "id": "330b51e5-ff09-4585-87fb-c5e7c567a7cf",
   "metadata": {},
   "outputs": [],
   "source": [
    "with open('work/m.txt', 'w') as f, open('work/col1.txt') as col1, open('work/col2.txt') as col2:\n",
    "    for name, gender in zip(col1, col2):\n",
    "        f.write(f'{name.rstrip()}\\t{gender.rstrip()}\\n')"
   ]
  },
  {
   "cell_type": "code",
   "execution_count": 43,
   "id": "522e2deb-dfd9-4f0e-8991-5b48f48adf2b",
   "metadata": {},
   "outputs": [
    {
     "name": "stdout",
     "output_type": "stream",
     "text": [
      "Mary\tF\n",
      "Anna\tF\n",
      "Emma\tF\n",
      "Elizabeth\tF\n",
      "Minnie\tF\n",
      "Margaret\tF\n",
      "Ida\tF\n",
      "Alice\tF\n",
      "Bertha\tF\n",
      "Sarah\tF\n"
     ]
    }
   ],
   "source": [
    "!head work/m.txt"
   ]
  },
  {
   "cell_type": "code",
   "execution_count": 44,
   "id": "54958d0a-a9e7-47ae-b70e-1e36aada13cd",
   "metadata": {},
   "outputs": [
    {
     "name": "stdout",
     "output_type": "stream",
     "text": [
      "Mary\tF\n",
      "Anna\tF\n",
      "Emma\tF\n",
      "Elizabeth\tF\n",
      "Minnie\tF\n",
      "Margaret\tF\n",
      "Ida\tF\n",
      "Alice\tF\n",
      "Bertha\tF\n",
      "Sarah\tF\n"
     ]
    }
   ],
   "source": [
    "!paste work/col1.txt work/col2.txt | head"
   ]
  },
  {
   "cell_type": "markdown",
   "id": "c7661dc8-6330-4ab6-9869-cca8fedcbfbe",
   "metadata": {},
   "source": [
    "#14. 先頭からN行を出力\n",
    "\n",
    "自然数Nをコマンドライン引数などの手段で受け取り，入力のうち先頭のN行だけを表示せよ．確認にはheadコマンドを用いよ．"
   ]
  },
  {
   "cell_type": "code",
   "execution_count": 48,
   "id": "c7a29553-c360-4d3a-947f-811a45f9a687",
   "metadata": {},
   "outputs": [],
   "source": [
    "#任意の自然数を受け取り、そのぶんの行を出力する関数\n",
    "def head_print(n, file_Name):\n",
    "    with open(file_Name) as f:\n",
    "        for i, line in enumerate(f):\n",
    "            if i < n:\n",
    "                print(line.rstrip())\n",
    "            else:\n",
    "                break"
   ]
  },
  {
   "cell_type": "code",
   "execution_count": 50,
   "id": "883b0e1a-21e0-4842-a0ec-a1b70c6d9e0b",
   "metadata": {},
   "outputs": [
    {
     "name": "stdout",
     "output_type": "stream",
     "text": [
      "Mary\tF\n",
      "Anna\tF\n",
      "Emma\tF\n",
      "Elizabeth\tF\n",
      "Minnie\tF\n",
      "Margaret\tF\n",
      "Ida\tF\n",
      "Alice\tF\n",
      "Bertha\tF\n",
      "Sarah\tF\n"
     ]
    }
   ],
   "source": [
    "head_print(10, 'work/m.txt')"
   ]
  },
  {
   "cell_type": "code",
   "execution_count": null,
   "id": "918ffbee-0374-4189-8b1b-879263fe9d96",
   "metadata": {},
   "outputs": [],
   "source": [
    "!head work/m.txt"
   ]
  },
  {
   "cell_type": "markdown",
   "id": "1da7cbb2-feb7-4c57-b4a8-98666986167a",
   "metadata": {},
   "source": [
    "#15. 末尾のN行を出力\n",
    "\n",
    "自然数Nをコマンドライン引数などの手段で受け取り，入力のうち末尾のN行だけを表示せよ．確認にはtailコマンドを用いよ"
   ]
  },
  {
   "cell_type": "code",
   "execution_count": 17,
   "id": "68830936-5555-48ac-bf44-7aafa320f039",
   "metadata": {},
   "outputs": [
    {
     "name": "stdout",
     "output_type": "stream",
     "text": [
      "import sys\n",
      "from collections import deque\n",
      "\n",
      "num = int(sys.argv[1])\n",
      "file = sys.argv[2]\n",
      "\n",
      "with open(file, 'r') as f:\n",
      "    for line in deque(f, num):\n",
      "        print(line, end = '')\n"
     ]
    }
   ],
   "source": [
    "!cat srcs/tail.py"
   ]
  },
  {
   "cell_type": "code",
   "execution_count": 8,
   "id": "ec346d67-ac72-4a38-84f3-9f6b7a700447",
   "metadata": {},
   "outputs": [
    {
     "name": "stdout",
     "output_type": "stream",
     "text": [
      "Benjamin\tM\t13381\t2018\n",
      "Elijah\tM\t12886\t2018\n",
      "Lucas\tM\t12585\t2018\n",
      "Mason\tM\t12435\t2018\n",
      "Logan\tM\t12352\t2018\n"
     ]
    }
   ],
   "source": [
    "!python srcs/tail.py 5 data/popular-names.txt"
   ]
  },
  {
   "cell_type": "code",
   "execution_count": 9,
   "id": "981babb0-a4ec-4c7c-906a-eff358b50367",
   "metadata": {},
   "outputs": [
    {
     "name": "stdout",
     "output_type": "stream",
     "text": [
      "Benjamin\tM\t13381\t2018\n",
      "Elijah\tM\t12886\t2018\n",
      "Lucas\tM\t12585\t2018\n",
      "Mason\tM\t12435\t2018\n",
      "Logan\tM\t12352\t2018\n"
     ]
    }
   ],
   "source": [
    "!tail -n 5 data/popular-names.txt "
   ]
  },
  {
   "cell_type": "markdown",
   "id": "839226cd-3031-4a58-ac25-92faf550427b",
   "metadata": {},
   "source": [
    "#16. ファイルをN分割する\n",
    "\n",
    "自然数Nをコマンドライン引数などの手段で受け取り，入力のファイルを行単位でN分割せよ．同様の処理をsplitコマンドで実現せよ．"
   ]
  },
  {
   "cell_type": "code",
   "execution_count": 19,
   "id": "7eb99ad4-76ed-49cc-a613-52a08e356b14",
   "metadata": {},
   "outputs": [
    {
     "name": "stdout",
     "output_type": "stream",
     "text": [
      "import sys\n",
      "part_num = int(sys.argv[1])\n",
      "file = sys.argv[2]\n",
      "\n",
      "import math\n",
      "\n",
      "with open(file) as f:\n",
      "    txt_list = f.readlines()\n",
      "    start = 0 \n",
      "    #make a division_num \n",
      "    devision_num = math.ceil(len(txt_list) / part_num)\n",
      "    for _ in range(part_num):\n",
      "       print(txt_list[start:start + devision_num], \\\n",
      "       len(txt_list[start:start + devision_num]),\\\n",
      "       len(txt_list))\n",
      "       start += devision_num\n",
      "\n",
      "\n"
     ]
    }
   ],
   "source": [
    "!cat srcs/split.py"
   ]
  },
  {
   "cell_type": "code",
   "execution_count": 18,
   "id": "36916457-ee6e-47ad-807e-0b6ccf57ce4e",
   "metadata": {},
   "outputs": [
    {
     "name": "stdout",
     "output_type": "stream",
     "text": [
      "['Mary\\n', 'Anna\\n', 'Emma\\n', 'Elizabeth\\n', 'Minnie\\n', 'Margaret\\n', 'Ida\\n', 'Alice\\n', 'Bertha\\n', 'Sarah\\n', 'John\\n', 'William\\n', 'James\\n', 'Charles\\n', 'George\\n', 'Frank\\n', 'Joseph\\n', 'Thomas\\n', 'Henry\\n', 'Robert\\n', 'Mary\\n', 'Anna\\n', 'Emma\\n', 'Elizabeth\\n', 'Margaret\\n', 'Minnie\\n', 'Ida\\n', 'Annie\\n', 'Bertha\\n', 'Alice\\n', 'John\\n', 'William\\n', 'James\\n', 'George\\n', 'Charles\\n', 'Frank\\n', 'Joseph\\n', 'Henry\\n', 'Thomas\\n', 'Edward\\n', 'Mary\\n', 'Anna\\n', 'Emma\\n', 'Elizabeth\\n', 'Minnie\\n', 'Margaret\\n', 'Ida\\n', 'Alice\\n', 'Bertha\\n', 'Annie\\n', 'John\\n', 'William\\n', 'James\\n', 'George\\n', 'Charles\\n', 'Frank\\n', 'Joseph\\n', 'Thomas\\n', 'Henry\\n', 'Robert\\n', 'Mary\\n', 'Anna\\n', 'Emma\\n', 'Elizabeth\\n', 'Minnie\\n', 'Margaret\\n', 'Bertha\\n', 'Ida\\n', 'Annie\\n', 'Clara\\n', 'John\\n', 'William\\n', 'James\\n', 'Charles\\n', 'George\\n', 'Frank\\n', 'Joseph\\n', 'Henry\\n', 'Robert\\n', 'Thomas\\n', 'Mary\\n', 'Anna\\n', 'Emma\\n', 'Elizabeth\\n', 'Minnie\\n', 'Margaret\\n', 'Ida\\n', 'Clara\\n', 'Bertha\\n', 'Annie\\n', 'John\\n', 'William\\n', 'James\\n', 'George\\n', 'Charles\\n', 'Frank\\n', 'Joseph\\n', 'Thomas\\n', 'Henry\\n', 'Robert\\n', 'Mary\\n', 'Anna\\n', 'Emma\\n', 'Elizabeth\\n', 'Margaret\\n', 'Minnie\\n', 'Clara\\n', 'Bertha\\n', 'Ida\\n', 'Annie\\n', 'John\\n', 'William\\n', 'James\\n', 'George\\n', 'Charles\\n', 'Frank\\n', 'Joseph\\n', 'Henry\\n', 'Robert\\n', 'Thomas\\n', 'Mary\\n', 'Anna\\n', 'Emma\\n', 'Elizabeth\\n', 'Minnie\\n', 'Margaret\\n', 'Ida\\n', 'Bertha\\n', 'Clara\\n', 'Florence\\n', 'John\\n', 'William\\n', 'James\\n', 'George\\n', 'Charles\\n', 'Frank\\n', 'Joseph\\n', 'Robert\\n', 'Henry\\n', 'Thomas\\n', 'Mary\\n', 'Anna\\n', 'Elizabeth\\n', 'Emma\\n', 'Margaret\\n', 'Minnie\\n', 'Bertha\\n', 'Clara\\n', 'Florence\\n', 'Ida\\n', 'John\\n', 'William\\n', 'James\\n', 'George\\n', 'Charles\\n', 'Frank\\n', 'Joseph\\n', 'Henry\\n', 'Thomas\\n', 'Edward\\n', 'Mary\\n', 'Anna\\n', 'Elizabeth\\n', 'Emma\\n', 'Margaret\\n', 'Minnie\\n', 'Bertha\\n', 'Florence\\n', 'Ethel\\n', 'Bessie\\n', 'John\\n', 'William\\n', 'James\\n', 'George\\n', 'Charles\\n', 'Frank\\n', 'Joseph\\n', 'Robert\\n', 'Harry\\n', 'Henry\\n', 'Mary\\n', 'Anna\\n', 'Elizabeth\\n', 'Margaret\\n', 'Emma\\n', 'Minnie\\n', 'Florence\\n', 'Ethel\\n', 'Bessie\\n', 'Clara\\n', 'John\\n', 'William\\n', 'James\\n', 'George\\n', 'Charles\\n', 'Frank\\n', 'Joseph\\n', 'Harry\\n', 'Robert\\n', 'Edward\\n', 'Mary\\n', 'Anna\\n', 'Elizabeth\\n', 'Margaret\\n', 'Emma\\n', 'Florence\\n', 'Ethel\\n', 'Minnie\\n', 'Clara\\n', 'Bertha\\n', 'John\\n', 'William\\n', 'James\\n', 'George\\n', 'Charles\\n', 'Frank\\n', 'Joseph\\n', 'Robert\\n', 'Henry\\n', 'Harry\\n', 'Mary\\n', 'Anna\\n', 'Margaret\\n', 'Elizabeth\\n', 'Emma\\n', 'Florence\\n', 'Ethel\\n', 'Minnie\\n', 'Helen\\n', 'Bertha\\n', 'John\\n', 'William\\n', 'James\\n', 'George\\n', 'Charles\\n', 'Frank\\n', 'Joseph\\n', 'Robert\\n', 'Harry\\n', 'Henry\\n', 'Mary\\n', 'Anna\\n', 'Elizabeth\\n', 'Margaret\\n', 'Ruth\\n', 'Florence\\n', 'Emma\\n', 'Ethel\\n', 'Helen\\n', 'Clara\\n', 'John\\n', 'William\\n', 'James\\n'] 253 2780\n"
     ]
    }
   ],
   "source": [
    "!python srcs/split.py 11 work/col1.txt | head -1"
   ]
  },
  {
   "cell_type": "code",
   "execution_count": 20,
   "id": "47e78a78-6394-4985-993c-d1b79aaebced",
   "metadata": {},
   "outputs": [],
   "source": [
    "#!split -n 5 \"col1.txt\" \n",
    "#このコマンドで一気に何個もファイルができる。分割はしっかりされている\n",
    "#split （分割するファイル数）、対象ファイル"
   ]
  },
  {
   "cell_type": "markdown",
   "id": "05eeea0f-c87f-4c8c-a868-db620c1b0076",
   "metadata": {},
   "source": [
    "#17. １列目の文字列の異なり\n",
    "\n",
    "1列目の文字列の種類（異なる文字列の集合）を求めよ．確認にはcut, sort, uniqコマンドを用いよ．"
   ]
  },
  {
   "cell_type": "code",
   "execution_count": 13,
   "id": "38c38441-6eca-4862-ab8f-a32224fb4d80",
   "metadata": {},
   "outputs": [
    {
     "name": "stdout",
     "output_type": "stream",
     "text": [
      "{'Clara', 'Virginia', 'Nancy', 'Lucas', 'Steven', 'Larry', 'Lori', 'Julie', 'Mary', 'Florence', 'Ashley', 'Noah', 'Ronald', 'Susan', 'Stephanie', 'Linda', 'Rebecca', 'Olivia', 'Jennifer', 'Robert', 'Brittany', 'Emily', 'Nicole', 'Lauren', 'Harry', 'Frances', 'Crystal', 'Betty', 'Tracy', 'Amy', 'Ruth', 'Kelly', 'Madison', 'Elijah', 'Kimberly', 'Jayden', 'Jeffrey', 'Sophia', 'Laura', 'Jason', 'Amelia', 'Joshua', 'Charlotte', 'Thomas', 'Samantha', 'Rachel', 'Judith', 'Karen', 'Mason', 'Nicholas', 'Angela', 'Michelle', 'Edward', 'Ida', 'Carol', 'Doris', 'Charles', 'Michael', 'Cynthia', 'Harper', 'Elizabeth', 'Joan', 'Anna', 'Donna', 'Marie', 'Liam', 'Sarah', 'Matthew', 'Chloe', 'Dorothy', 'Gary', 'Pamela', 'Jacob', 'Amanda', 'Shirley', 'Margaret', 'Bertha', 'Evelyn', 'Melissa', 'James', 'Kathleen', 'Benjamin', 'Alice', 'David', 'George', 'Mildred', 'Walter', 'Lillian', 'Patricia', 'Scott', 'William', 'Brandon', 'Hannah', 'Jessica', 'Donald', 'Oliver', 'Carolyn', 'Joseph', 'Tammy', 'Richard', 'Debra', 'Deborah', 'John', 'Helen', 'Ava', 'Barbara', 'Tyler', 'Frank', 'Sharon', 'Austin', 'Lisa', 'Ethan', 'Justin', 'Aiden', 'Mia', 'Megan', 'Andrew', 'Isabella', 'Annie', 'Anthony', 'Minnie', 'Sandra', 'Mark', 'Henry', 'Alexander', 'Heather', 'Ethel', 'Christopher', 'Alexis', 'Logan', 'Emma', 'Abigail', 'Daniel', 'Bessie', 'Taylor', 'Brian'}\n",
      "136\n"
     ]
    }
   ],
   "source": [
    "name_set = set()\n",
    "with open('data/popular-names.txt') as f:\n",
    "    for line in f:\n",
    "        name = line.split()[0]\n",
    "        name_set.add(name)\n",
    "        \n",
    "print(name_set)\n",
    "print(len(name_set))"
   ]
  },
  {
   "cell_type": "code",
   "execution_count": 16,
   "id": "3d1aedf3-9ccf-4b8d-a56e-380763789db7",
   "metadata": {},
   "outputs": [
    {
     "name": "stdout",
     "output_type": "stream",
     "text": [
      "Abigail\n",
      "Aiden\n",
      "Alexander\n",
      "Alexis\n",
      "Alice\n",
      "Amanda\n",
      "Amelia\n",
      "Amy\n",
      "Andrew\n",
      "Angela\n"
     ]
    }
   ],
   "source": [
    "!cut -f 1 data/popular-names.txt | sort -u | head -10"
   ]
  },
  {
   "cell_type": "markdown",
   "id": "445ce87f-7df5-4046-9ae8-a49516bab8e2",
   "metadata": {},
   "source": [
    "#18. 各行を3コラム目の数値の降順にソート\n",
    "\n",
    "各行を3コラム目の数値の逆順で整列せよ（注意: 各行の内容は変更せずに並び替えよ）．確認にはsortコマンドを用いよ（この問題はコマンドで実行した時の結果と合わなくてもよい）．"
   ]
  },
  {
   "cell_type": "code",
   "execution_count": 33,
   "id": "4119c361-f7f7-40aa-931d-522db7a081cd",
   "metadata": {},
   "outputs": [],
   "source": [
    "with open ('data/popular-names.txt') as fi ,open('work/ans_q18.txt' , 'w') as fo:\n",
    "    persons_list = []\n",
    "    for line in fi:\n",
    "        new_line = line.split()\n",
    "        persons_list.append(new_line)#二次元配列の作成\n",
    "    reverse_sort_list = sorted(persons_list,reverse=True, key = lambda x:int(x[2]))\n",
    "    \n",
    "    for data in reverse_sort_list:\n",
    "        fo.write('\\t'.join(data) + '\\n')"
   ]
  },
  {
   "cell_type": "code",
   "execution_count": 34,
   "id": "d9e610b7-e83c-4dd6-ba9b-6a47ef79374e",
   "metadata": {},
   "outputs": [
    {
     "name": "stdout",
     "output_type": "stream",
     "text": [
      "Linda\tF\t99689\t1947\n",
      "Linda\tF\t96211\t1948\n",
      "James\tM\t94757\t1947\n",
      "Michael\tM\t92704\t1957\n",
      "Robert\tM\t91640\t1947\n",
      "Linda\tF\t91016\t1949\n",
      "Michael\tM\t90656\t1956\n",
      "Michael\tM\t90517\t1958\n",
      "James\tM\t88584\t1948\n",
      "Michael\tM\t88528\t1954\n"
     ]
    }
   ],
   "source": [
    "!head work/ans_q18.txt"
   ]
  },
  {
   "cell_type": "code",
   "execution_count": 41,
   "id": "6b9283ea-5eea-4f84-837c-8e2573450aa4",
   "metadata": {},
   "outputs": [
    {
     "name": "stdout",
     "output_type": "stream",
     "text": [
      "Linda\tF\t99689\t1947\n",
      "Linda\tF\t96211\t1948\n",
      "James\tM\t94757\t1947\n",
      "Michael\tM\t92704\t1957\n",
      "Robert\tM\t91640\t1947\n",
      "Linda\tF\t91016\t1949\n",
      "Michael\tM\t90656\t1956\n",
      "Michael\tM\t90517\t1958\n",
      "James\tM\t88584\t1948\n",
      "Michael\tM\t88528\t1954\n",
      "sort: Broken pipe\n"
     ]
    }
   ],
   "source": [
    "!sort -k 3 -r -n data/popular-names.txt | head"
   ]
  },
  {
   "cell_type": "markdown",
   "id": "04965a3c-9560-4fd9-8e44-07d7804de8d5",
   "metadata": {},
   "source": [
    "#19. 各行の1コラム目の文字列の出現頻度を求め，出現頻度の高い順に並べる\n",
    "\n",
    "各行の1列目の文字列の出現頻度を求め，その高い順に並べて表示せよ．確認にはcut, uniq, sortコマンドを用いよ．"
   ]
  },
  {
   "cell_type": "code",
   "execution_count": 43,
   "id": "8d2de52e-0001-43b2-ad7c-7672e1f89991",
   "metadata": {},
   "outputs": [
    {
     "name": "stdout",
     "output_type": "stream",
     "text": [
      "[('James', 118), ('William', 111), ('John', 108), ('Robert', 108), ('Mary', 92), ('Charles', 75), ('Michael', 74), ('Elizabeth', 73), ('Joseph', 70), ('Margaret', 60)]\n"
     ]
    }
   ],
   "source": [
    "import collections\n",
    "with open(\"data/popular-names.txt\") as f:\n",
    "    name_list = []\n",
    "    for line in f:\n",
    "        name_list.append(line.split()[0])\n",
    "    name_counter = collections.Counter(name_list)#collections.Counter()は dictを返す\n",
    "    print(name_counter.most_common(10))#上位１０個のみ出力してみる"
   ]
  },
  {
   "cell_type": "code",
   "execution_count": 57,
   "id": "aee1d448-6143-4ab4-aa8c-396b6df76371",
   "metadata": {},
   "outputs": [
    {
     "name": "stdout",
     "output_type": "stream",
     "text": [
      " 118 James\n",
      " 111 William\n",
      " 108 Robert\n",
      " 108 John\n",
      "  92 Mary\n",
      "  75 Charles\n",
      "  74 Michael\n",
      "  73 Elizabeth\n",
      "  70 Joseph\n",
      "  60 Margaret\n"
     ]
    }
   ],
   "source": [
    "!cut -f1 data/popular-names.txt | sort | uniq -c | sort -r | head"
   ]
  },
  {
   "cell_type": "code",
   "execution_count": 46,
   "id": "a9b73912-a794-4c52-b839-c229c94cae70",
   "metadata": {},
   "outputs": [
    {
     "name": "stdout",
     "output_type": "stream",
     "text": [
      " 118 James\n",
      " 111 William\n",
      " 108 Robert\n",
      " 108 John\n",
      "  92 Mary\n",
      "  75 Charles\n",
      "  74 Michael\n",
      "  73 Elizabeth\n",
      "  70 Joseph\n",
      "  60 Margaret\n"
     ]
    }
   ],
   "source": [
    "#答えを見て\n",
    "!cut -f1 data/popular-names.txt | sort | uniq -c | sort -bnrk1 | head"
   ]
  }
 ],
 "metadata": {
  "kernelspec": {
   "display_name": "Python 3 (ipykernel)",
   "language": "python",
   "name": "python3"
  },
  "language_info": {
   "codemirror_mode": {
    "name": "ipython",
    "version": 3
   },
   "file_extension": ".py",
   "mimetype": "text/x-python",
   "name": "python",
   "nbconvert_exporter": "python",
   "pygments_lexer": "ipython3",
   "version": "3.8.11"
  }
 },
 "nbformat": 4,
 "nbformat_minor": 5
}
