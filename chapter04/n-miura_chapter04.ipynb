{
 "cells": [
  {
   "cell_type": "code",
   "execution_count": 5,
   "id": "7aa19bc9-d4bc-4574-a037-92c6fd6e933e",
   "metadata": {},
   "outputs": [
    {
     "name": "stdout",
     "output_type": "stream",
     "text": [
      "--2023-04-21 09:15:24--  https://nlp100.github.io/data/neko.txt\n",
      "nlp100.github.io (nlp100.github.io) をDNSに問いあわせています... 185.199.110.153, 185.199.111.153, 185.199.109.153, ...\n",
      "nlp100.github.io (nlp100.github.io)|185.199.110.153|:443 に接続しています... 接続しました。\n",
      "HTTP による接続要求を送信しました、応答を待っています... 200 OK\n",
      "長さ: 975789 (953K) [text/plain]\n",
      "`./data/neko.txt' に保存中\n",
      "\n",
      "neko.txt            100%[===================>] 952.92K  --.-KB/s 時間 0.06s      \n",
      "\n",
      "2023-04-21 09:15:24 (16.1 MB/s) - `./data/neko.txt' へ保存完了 [975789/975789]\n",
      "\n"
     ]
    }
   ],
   "source": [
    "!wget -P ./data https://nlp100.github.io/data/neko.txt　"
   ]
  },
  {
   "cell_type": "code",
   "execution_count": 8,
   "id": "b4fe3e5d-5dfa-4ecb-bc29-1be3015b6db8",
   "metadata": {},
   "outputs": [
    {
     "name": "stdout",
     "output_type": "stream",
     "text": [
      "一\n",
      "\n",
      "　吾輩は猫である。\n",
      "名前はまだ無い。\n",
      "\n",
      "　どこで生れたかとんと見当がつかぬ。\n",
      "何でも薄暗いじめじめした所でニャーニャー泣いていた事だけは記憶している。\n",
      "吾輩はここで始めて人間というものを見た。\n",
      "しかもあとで聞くとそれは書生という人間中で一番獰悪な種族であったそうだ。\n",
      "この書生というのは時々我々を捕えて煮て食うという話である。\n"
     ]
    }
   ],
   "source": [
    "!head data/neko.txt"
   ]
  },
  {
   "cell_type": "code",
   "execution_count": 10,
   "id": "fecc8e89-6745-440a-a3ae-ebfb8335ccf0",
   "metadata": {},
   "outputs": [
    {
     "name": "stdout",
     "output_type": "stream",
     "text": [
      "どこにどうしていても差支えはない。\n",
      "ただ楽である。\n",
      "否楽そのものすらも感じ得ない。\n",
      "日月を切り落し、天地を粉韲して不可思議の太平に入る。\n",
      "吾輩は死ぬ。\n",
      "死んでこの太平を得る。\n",
      "太平は死ななければ得られぬ。\n",
      "南無阿弥陀仏南無阿弥陀仏。\n",
      "ありがたいありがたい。\n",
      "\n"
     ]
    }
   ],
   "source": [
    "!tail data/neko.txt"
   ]
  },
  {
   "cell_type": "code",
   "execution_count": 9,
   "id": "4e6c51ef-c7c5-431f-bb96-ea482e80d678",
   "metadata": {},
   "outputs": [
    {
     "name": "stdout",
     "output_type": "stream",
     "text": [
      "    9964   18861  975789 data/neko.txt\n"
     ]
    }
   ],
   "source": [
    "!wc data/neko.txt"
   ]
  },
  {
   "cell_type": "code",
   "execution_count": 5,
   "id": "8a8ef873-e84c-42ac-a8d3-bec868bb7be3",
   "metadata": {},
   "outputs": [],
   "source": [
    "#MeCabと辞書は既に入れた記憶がある\n",
    "import MeCab\n",
    "#モジュールの中身を見る\n",
    "#help(MeCab)"
   ]
  },
  {
   "cell_type": "code",
   "execution_count": 6,
   "id": "51f2f944-1115-43b2-8028-a9d7a7a12326",
   "metadata": {},
   "outputs": [
    {
     "name": "stdout",
     "output_type": "stream",
     "text": [
      "['太郎\\t名詞,固有名詞,人名,名,*,*,太郎,タロウ,タロー', 'は\\t助詞,係助詞,*,*,*,*,は,ハ,ワ', '昨日\\t名詞,副詞可能,*,*,*,*,昨日,キノウ,キノー', 'シンポジウム\\t名詞,一般,*,*,*,*,シンポジウム,シンポジウム,シンポジューム', 'に\\t助詞,格助詞,一般,*,*,*,に,ニ,ニ', '参加\\t名詞,サ変接続,*,*,*,*,参加,サンカ,サンカ', 'し\\t動詞,自立,*,*,サ変・スル,連用形,する,シ,シ', 'て\\t助詞,接続助詞,*,*,*,*,て,テ,テ', '知見\\t名詞,一般,*,*,*,*,知見,チケン,チケン', 'を\\t助詞,格助詞,一般,*,*,*,を,ヲ,ヲ', '得\\t動詞,自立,*,*,一段,連用形,得る,エ,エ', 'た\\t助動詞,*,*,*,特殊・タ,基本形,た,タ,タ', 'EOS', '']\n",
      "['太郎', '名詞', '固有名詞', '人名', '名', '*', '*', '太郎', 'タロウ', 'タロー']\n",
      "['は', '助詞', '係助詞', '*', '*', '*', '*', 'は', 'ハ', 'ワ']\n",
      "['昨日', '名詞', '副詞可能', '*', '*', '*', '*', '昨日', 'キノウ', 'キノー']\n",
      "['シンポジウム', '名詞', '一般', '*', '*', '*', '*', 'シンポジウム', 'シンポジウム', 'シンポジューム']\n",
      "['に', '助詞', '格助詞', '一般', '*', '*', '*', 'に', 'ニ', 'ニ']\n",
      "['参加', '名詞', 'サ変接続', '*', '*', '*', '*', '参加', 'サンカ', 'サンカ']\n",
      "['し', '動詞', '自立', '*', '*', 'サ変・スル', '連用形', 'する', 'シ', 'シ']\n",
      "['て', '助詞', '接続助詞', '*', '*', '*', '*', 'て', 'テ', 'テ']\n",
      "['知見', '名詞', '一般', '*', '*', '*', '*', '知見', 'チケン', 'チケン']\n",
      "['を', '助詞', '格助詞', '一般', '*', '*', '*', 'を', 'ヲ', 'ヲ']\n",
      "['得', '動詞', '自立', '*', '*', '一段', '連用形', '得る', 'エ', 'エ']\n",
      "['た', '助動詞', '*', '*', '*', '特殊・タ', '基本形', 'た', 'タ', 'タ']\n",
      "['EOS']\n",
      "['']\n"
     ]
    }
   ],
   "source": [
    "text = '太郎は昨日シンポジウムに参加して知見を得た'\n",
    "#タグ付クラスの呼び出し\n",
    "mecab = MeCab.Tagger()\n",
    "#parseメソッドの呼び出し→形態素解析\n",
    "parses = mecab.parse(text)\n",
    "t = parses.split('\\n')\n",
    "print(t)\n",
    "import re\n",
    "for i in t:\n",
    "    tt = re.split('[\\t,]',i)\n",
    "    print(tt)"
   ]
  },
  {
   "cell_type": "markdown",
   "id": "df315fc4-9ed6-4bb4-b678-111c45de3f1d",
   "metadata": {},
   "source": [
    "MeCabの出力\n",
    "表層形\\t品詞,品詞細分類1,品詞細分類2,品詞細分類3,活用型,活用形,原形,読み,発音"
   ]
  },
  {
   "cell_type": "code",
   "execution_count": 7,
   "id": "a82d61e9-f91e-4707-8a39-ad0a25839b57",
   "metadata": {},
   "outputs": [],
   "source": [
    "with open('data/neko.txt') as fi, open('work/neko.txt.mecab', 'w') as fo:\n",
    "    mecab = MeCab.Tagger()\n",
    "    for sentence in fi:\n",
    "        parsed_line = mecab.parse(sentence)\n",
    "        fo.write(parsed_line)"
   ]
  },
  {
   "cell_type": "markdown",
   "id": "93a73908-9c72-43c8-95bc-31bf9141cb0c",
   "metadata": {},
   "source": [
    "#30. 形態素解析結果の読み込み\n",
    "\n",
    "形態素解析結果（neko.txt.mecab）を読み込むプログラムを実装せよ．\n",
    "ただし，各形態素は表層形（surface），基本形（base），品詞（pos），品詞細分類1（pos1）をキーとするマッピング型に格納し，1文を形態素（マッピング型）のリストとして表現せよ．第4章の残りの問題では，ここで作ったプログラムを活用せよ．"
   ]
  },
  {
   "cell_type": "code",
   "execution_count": 8,
   "id": "2a44ed06-c898-431a-a87d-ff85b10fed32",
   "metadata": {},
   "outputs": [],
   "source": [
    "import MeCab\n",
    "import re\n",
    "\n",
    "sentence_list = []\n",
    "neko_txt_list = []\n",
    "\n",
    "\n",
    "with open('work/neko.txt.mecab') as fi:\n",
    "    for analyzed_line in fi:\n",
    "        morpheme_line = re.split('[\\t,]',analyzed_line.rstrip())\n",
    "        morph_dict = {}\n",
    "        if morpheme_line[0] == 'EOS':\n",
    "            if sentence_list:\n",
    "                neko_txt_list.append(sentence_list)\n",
    "                sentence_list = []\n",
    "            else:\n",
    "                sentence_list = []\n",
    "        else:\n",
    "            morph_dict['surface'] = morpheme_line[0]\n",
    "            morph_dict['base'] = morpheme_line[7]\n",
    "            morph_dict['pos'] = morpheme_line[1]\n",
    "            morph_dict['pos1'] = morpheme_line[2]\n",
    "            sentence_list.append(morph_dict)\n"
   ]
  },
  {
   "cell_type": "code",
   "execution_count": 9,
   "id": "21f290c3-1355-4c6a-b070-20633cc66331",
   "metadata": {},
   "outputs": [
    {
     "data": {
      "text/plain": [
       "[[{'surface': '一', 'base': '一', 'pos': '名詞', 'pos1': '数'}],\n",
       " [{'surface': '\\u3000', 'base': '\\u3000', 'pos': '記号', 'pos1': '空白'},\n",
       "  {'surface': '吾輩', 'base': '吾輩', 'pos': '名詞', 'pos1': '代名詞'},\n",
       "  {'surface': 'は', 'base': 'は', 'pos': '助詞', 'pos1': '係助詞'},\n",
       "  {'surface': '猫', 'base': '猫', 'pos': '名詞', 'pos1': '一般'},\n",
       "  {'surface': 'で', 'base': 'だ', 'pos': '助動詞', 'pos1': '*'},\n",
       "  {'surface': 'ある', 'base': 'ある', 'pos': '助動詞', 'pos1': '*'},\n",
       "  {'surface': '。', 'base': '。', 'pos': '記号', 'pos1': '句点'}],\n",
       " [{'surface': '名前', 'base': '名前', 'pos': '名詞', 'pos1': '一般'},\n",
       "  {'surface': 'は', 'base': 'は', 'pos': '助詞', 'pos1': '係助詞'},\n",
       "  {'surface': 'まだ', 'base': 'まだ', 'pos': '副詞', 'pos1': '助詞類接続'},\n",
       "  {'surface': '無い', 'base': '無い', 'pos': '形容詞', 'pos1': '自立'},\n",
       "  {'surface': '。', 'base': '。', 'pos': '記号', 'pos1': '句点'}],\n",
       " [{'surface': '\\u3000', 'base': '\\u3000', 'pos': '記号', 'pos1': '空白'},\n",
       "  {'surface': 'どこ', 'base': 'どこ', 'pos': '名詞', 'pos1': '代名詞'},\n",
       "  {'surface': 'で', 'base': 'で', 'pos': '助詞', 'pos1': '格助詞'},\n",
       "  {'surface': '生れ', 'base': '生れる', 'pos': '動詞', 'pos1': '自立'},\n",
       "  {'surface': 'た', 'base': 'た', 'pos': '助動詞', 'pos1': '*'},\n",
       "  {'surface': 'か', 'base': 'か', 'pos': '助詞', 'pos1': '副助詞／並立助詞／終助詞'},\n",
       "  {'surface': 'とんと', 'base': 'とんと', 'pos': '副詞', 'pos1': '一般'},\n",
       "  {'surface': '見当', 'base': '見当', 'pos': '名詞', 'pos1': 'サ変接続'},\n",
       "  {'surface': 'が', 'base': 'が', 'pos': '助詞', 'pos1': '格助詞'},\n",
       "  {'surface': 'つか', 'base': 'つく', 'pos': '動詞', 'pos1': '自立'},\n",
       "  {'surface': 'ぬ', 'base': 'ぬ', 'pos': '助動詞', 'pos1': '*'},\n",
       "  {'surface': '。', 'base': '。', 'pos': '記号', 'pos1': '句点'}],\n",
       " [{'surface': '何', 'base': '何', 'pos': '名詞', 'pos1': '代名詞'},\n",
       "  {'surface': 'でも', 'base': 'でも', 'pos': '助詞', 'pos1': '副助詞'},\n",
       "  {'surface': '薄暗い', 'base': '薄暗い', 'pos': '形容詞', 'pos1': '自立'},\n",
       "  {'surface': 'じめじめ', 'base': 'じめじめ', 'pos': '副詞', 'pos1': '一般'},\n",
       "  {'surface': 'し', 'base': 'する', 'pos': '動詞', 'pos1': '自立'},\n",
       "  {'surface': 'た', 'base': 'た', 'pos': '助動詞', 'pos1': '*'},\n",
       "  {'surface': '所', 'base': '所', 'pos': '名詞', 'pos1': '非自立'},\n",
       "  {'surface': 'で', 'base': 'で', 'pos': '助詞', 'pos1': '格助詞'},\n",
       "  {'surface': 'ニャーニャー', 'base': '*', 'pos': '名詞', 'pos1': '一般'},\n",
       "  {'surface': '泣い', 'base': '泣く', 'pos': '動詞', 'pos1': '自立'},\n",
       "  {'surface': 'て', 'base': 'て', 'pos': '助詞', 'pos1': '接続助詞'},\n",
       "  {'surface': 'いた事', 'base': 'いた事', 'pos': '名詞', 'pos1': '一般'},\n",
       "  {'surface': 'だけ', 'base': 'だけ', 'pos': '助詞', 'pos1': '副助詞'},\n",
       "  {'surface': 'は', 'base': 'は', 'pos': '助詞', 'pos1': '係助詞'},\n",
       "  {'surface': '記憶', 'base': '記憶', 'pos': '名詞', 'pos1': 'サ変接続'},\n",
       "  {'surface': 'し', 'base': 'する', 'pos': '動詞', 'pos1': '自立'},\n",
       "  {'surface': 'て', 'base': 'て', 'pos': '助詞', 'pos1': '接続助詞'},\n",
       "  {'surface': 'いる', 'base': 'いる', 'pos': '動詞', 'pos1': '非自立'},\n",
       "  {'surface': '。', 'base': '。', 'pos': '記号', 'pos1': '句点'}]]"
      ]
     },
     "execution_count": 9,
     "metadata": {},
     "output_type": "execute_result"
    }
   ],
   "source": [
    "neko_txt_list[0:5]"
   ]
  },
  {
   "cell_type": "markdown",
   "id": "d9b586d5-b1f7-4a6c-a783-630989919ac1",
   "metadata": {},
   "source": [
    "#31. 動詞\n",
    "\n",
    "動詞の表層形をすべて抽出せよ．"
   ]
  },
  {
   "cell_type": "code",
   "execution_count": 10,
   "id": "10f7a9fb-a69c-4f6e-8139-4c5cd82eb484",
   "metadata": {},
   "outputs": [],
   "source": [
    "#ダブりなし\n",
    "def morph_get_from_neko(part_of_speech, shape, save_list):\n",
    "    save_list = []\n",
    "    for sentence in neko_txt_list:\n",
    "        for morph in sentence:\n",
    "            if morph['pos'] == part_of_speech:\n",
    "                if morph[shape] in save_list:\n",
    "                    continue\n",
    "                else:\n",
    "                    save_list.append(morph[shape])\n",
    "    return save_list"
   ]
  },
  {
   "cell_type": "code",
   "execution_count": 11,
   "id": "71ee106e-2c21-4ee6-9dd6-505c56fad0a0",
   "metadata": {},
   "outputs": [
    {
     "data": {
      "text/plain": [
       "['生れ', 'つか', 'し', '泣い', 'いる']"
      ]
     },
     "execution_count": 11,
     "metadata": {},
     "output_type": "execute_result"
    }
   ],
   "source": [
    "surface_verbs_list = []\n",
    "morph_get_from_neko('動詞','surface',surface_verbs_list)[:5]"
   ]
  },
  {
   "cell_type": "code",
   "execution_count": 12,
   "id": "d2deeb7f-7394-4370-9d21-c8bfdb816cc0",
   "metadata": {},
   "outputs": [
    {
     "data": {
      "text/plain": [
       "3893"
      ]
     },
     "execution_count": 12,
     "metadata": {},
     "output_type": "execute_result"
    }
   ],
   "source": [
    "len(morph_get_from_neko('動詞','surface',surface_verbs_list))"
   ]
  },
  {
   "cell_type": "markdown",
   "id": "37cca9b4-a674-4f8a-bc5b-a08033eaa246",
   "metadata": {},
   "source": [
    "#32. 動詞の基本形\n",
    "\n",
    "動詞の基本形をすべて抽出せよ．"
   ]
  },
  {
   "cell_type": "code",
   "execution_count": 13,
   "id": "ebcc106e-8fa4-4b94-a893-f0e52bd3ee58",
   "metadata": {},
   "outputs": [
    {
     "data": {
      "text/plain": [
       "['生れる', 'つく', 'する', '泣く', 'いる']"
      ]
     },
     "execution_count": 13,
     "metadata": {},
     "output_type": "execute_result"
    }
   ],
   "source": [
    "base_verbs_list = []\n",
    "morph_get_from_neko('動詞','base',base_verbs_list)[:5]"
   ]
  },
  {
   "cell_type": "code",
   "execution_count": 14,
   "id": "99da5b5e-42a1-4edd-98c9-c098915b8333",
   "metadata": {},
   "outputs": [
    {
     "data": {
      "text/plain": [
       "2300"
      ]
     },
     "execution_count": 14,
     "metadata": {},
     "output_type": "execute_result"
    }
   ],
   "source": [
    "len(morph_get_from_neko('動詞','base',surface_verbs_list))"
   ]
  },
  {
   "cell_type": "markdown",
   "id": "34fb900e-c47a-451d-95f7-8d03b515cc32",
   "metadata": {},
   "source": [
    "#33. 「AのB」\n",
    "\n",
    "2つの名詞が「の」で連結されている名詞句を抽出せよ．"
   ]
  },
  {
   "cell_type": "code",
   "execution_count": 15,
   "id": "6e4a3d63-6d8c-4ccb-bbec-6fae2238c902",
   "metadata": {},
   "outputs": [],
   "source": [
    "all_a_of_b = []\n",
    "a_of_b = []\n",
    "\n",
    "for sentence in neko_txt_list:\n",
    "    a_of_b = []\n",
    "    for morph in sentence:\n",
    "        if morph['pos'] == '名詞':\n",
    "            if len(a_of_b) == 0:\n",
    "                a_of_b.append(morph['surface'])\n",
    "            elif len(a_of_b) == 2:\n",
    "                a_of_b.append(morph['surface'])\n",
    "                all_a_of_b.append(''.join(a_of_b))\n",
    "                a_of_b = []\n",
    "                a_of_b.append(morph['surface'])\n",
    "        elif morph['surface'] == 'の' and morph['pos'] == '助詞' and len(a_of_b) == 1:\n",
    "            a_of_b.append(morph['surface'])\n",
    "        else:\n",
    "            a_of_b = []"
   ]
  },
  {
   "cell_type": "code",
   "execution_count": 16,
   "id": "f2ae9e50-8b67-4ff4-b5bf-d68b59db7a4f",
   "metadata": {},
   "outputs": [
    {
     "data": {
      "text/plain": [
       "6044"
      ]
     },
     "execution_count": 16,
     "metadata": {},
     "output_type": "execute_result"
    }
   ],
   "source": [
    "len(all_a_of_b)"
   ]
  },
  {
   "cell_type": "markdown",
   "id": "7f94e238-8e87-4181-bd1d-f0c75c64030f",
   "metadata": {},
   "source": [
    "#34. 名詞の連接\n",
    "\n",
    "名詞の連接（連続して出現する名詞）を最長一致で抽出せよ"
   ]
  },
  {
   "cell_type": "code",
   "execution_count": 17,
   "id": "186e7008-bf19-46a3-a592-55bc58332d93",
   "metadata": {},
   "outputs": [],
   "source": [
    "all_nouns = []\n",
    "nouns = []\n",
    "\n",
    "for sentence in neko_txt_list:\n",
    "    for morph in sentence:\n",
    "        if morph['pos'] == '名詞':\n",
    "            nouns.append(morph['surface'])\n",
    "        else:\n",
    "            if len(nouns) >= 2:\n",
    "                all_nouns.append(''.join(nouns))\n",
    "                nouns = []\n",
    "            else:\n",
    "                nouns = []\n",
    "        \n",
    "        "
   ]
  },
  {
   "cell_type": "code",
   "execution_count": 18,
   "id": "8ace752b-b03c-4aa6-b9e0-0d2db0c4f5f2",
   "metadata": {},
   "outputs": [
    {
     "name": "stdout",
     "output_type": "stream",
     "text": [
      "['人間中', '一番獰悪', '時妙', '一毛', 'その後猫', '一度', 'ぷうぷうと煙', '邸内', '三毛', '書生以外']\n",
      "7338\n"
     ]
    }
   ],
   "source": [
    "print(all_nouns[0:10])\n",
    "print(len(all_nouns))"
   ]
  },
  {
   "cell_type": "markdown",
   "id": "abadd836-6bfd-443f-8280-d9a1f333aa8a",
   "metadata": {},
   "source": [
    "#35. 単語の出現頻度\n",
    "\n",
    "文章中に出現する単語とその出現頻度を求め，出現頻度の高い順に並べよ．"
   ]
  },
  {
   "cell_type": "code",
   "execution_count": 23,
   "id": "ee3f909a-5990-4409-9370-ca0a5ecb3071",
   "metadata": {},
   "outputs": [],
   "source": [
    "from collections import Counter\n",
    "import collections\n",
    "cnt1 = Counter()\n",
    "for sentence in neko_txt_list:\n",
    "    for morph in sentence:\n",
    "        cnt1[morph['surface']] += 1"
   ]
  },
  {
   "cell_type": "code",
   "execution_count": 57,
   "id": "b067f399-2928-4fe5-8563-1298f64c4e42",
   "metadata": {},
   "outputs": [
    {
     "data": {
      "text/plain": [
       "[('の', 9194),\n",
       " ('。', 7486),\n",
       " ('て', 6868),\n",
       " ('、', 6772),\n",
       " ('は', 6420),\n",
       " ('に', 6243),\n",
       " ('を', 6071),\n",
       " ('と', 5508),\n",
       " ('が', 5337),\n",
       " ('た', 3988)]"
      ]
     },
     "execution_count": 57,
     "metadata": {},
     "output_type": "execute_result"
    }
   ],
   "source": [
    "cnt1.most_common(10)"
   ]
  },
  {
   "cell_type": "markdown",
   "id": "fd52f66a-a4b0-4562-8c46-34c2d2e228f3",
   "metadata": {},
   "source": [
    "#36. 頻度上位10語\n",
    "\n",
    "出現頻度が高い10語とその出現頻度をグラフ（例えば棒グラフなど）で表示せよ．"
   ]
  },
  {
   "cell_type": "code",
   "execution_count": 47,
   "id": "a7c56bcd-5738-4bc9-a14d-4652798aad6e",
   "metadata": {},
   "outputs": [],
   "source": [
    "#グラフを描画するために、Matplotlibライブラリから「pyplot」を呼び出して利用\n",
    "from matplotlib import pyplot as pyp"
   ]
  },
  {
   "cell_type": "code",
   "execution_count": 48,
   "id": "eb56a399-9629-4eae-8a94-f68d6cdccf89",
   "metadata": {},
   "outputs": [
    {
     "data": {
      "text/plain": [
       "Text(0, 0.5, '出現頻度')"
      ]
     },
     "execution_count": 48,
     "metadata": {},
     "output_type": "execute_result"
    },
    {
     "data": {
      "image/png": "[encoded data removed]",
      "text/plain": [
       "<Figure size 640x480 with 1 Axes>"
      ]
     },
     "metadata": {},
     "output_type": "display_data"
    }
   ],
   "source": [
    "import japanize_matplotlib\n",
    "l = cnt1.most_common(20)\n",
    "word = []\n",
    "frequency =[]\n",
    "for tupple in l:\n",
    "    word.append(tupple[0])\n",
    "    frequency.append(tupple[1])\n",
    "pyp.bar(word, frequency, tick_label=word)\n",
    "pyp.title(\"猫・頻出単語グラフ\")\n",
    "pyp.xlabel(\"単語\")\n",
    "pyp.ylabel(\"出現頻度\")"
   ]
  },
  {
   "cell_type": "markdown",
   "id": "20494344-9b9e-46bb-aa80-1ac6c1a00ce4",
   "metadata": {},
   "source": [
    "#37. 「猫」と共起頻度の高い上位10語\n",
    "\n",
    "「猫」とよく共起する（共起頻度が高い）10語とその出現頻度をグラフ（例えば棒グラフなど）で表示せよ．"
   ]
  },
  {
   "cell_type": "code",
   "execution_count": 49,
   "id": "c8834a0f-0d15-42d7-8bc4-9784728d7c7b",
   "metadata": {},
   "outputs": [],
   "source": [
    "#形態素の基本形の一文を作るやつ\n",
    "def make_useful_sentence(sample_list):\n",
    "    all_sent = []\n",
    "    sent = []\n",
    "    for sentence in sample_list:\n",
    "        for m_dict in sentence:\n",
    "            sent.append(m_dict['base'])\n",
    "        all_sent.append(sent)\n",
    "        sent = []\n",
    "    return all_sent"
   ]
  },
  {
   "cell_type": "code",
   "execution_count": 51,
   "id": "590fae16-260c-4eb6-9437-51e093916bad",
   "metadata": {},
   "outputs": [],
   "source": [
    "co_occurrence = Counter()\n",
    "for useful_sentence in make_useful_sentence(neko_txt_list):\n",
    "    if '猫' in useful_sentence:\n",
    "        useful_sentence.remove('猫')\n",
    "        for word in useful_sentence:\n",
    "            co_occurrence[word] += 1"
   ]
  },
  {
   "cell_type": "code",
   "execution_count": 53,
   "id": "b176cec2-57b6-4457-8139-1945722e09d1",
   "metadata": {},
   "outputs": [
    {
     "data": {
      "text/plain": [
       "[('の', 391),\n",
       " ('は', 272),\n",
       " ('、', 252),\n",
       " ('に', 250),\n",
       " ('を', 232),\n",
       " ('だ', 231),\n",
       " ('て', 229),\n",
       " ('。', 209),\n",
       " ('と', 202),\n",
       " ('が', 180)]"
      ]
     },
     "execution_count": 53,
     "metadata": {},
     "output_type": "execute_result"
    }
   ],
   "source": [
    "co_occurrence_list = co_occurrence.most_common(10)\n",
    "co_occurrence_list"
   ]
  },
  {
   "cell_type": "code",
   "execution_count": 55,
   "id": "3f38b719-994f-4ea4-a48a-3136601daa79",
   "metadata": {},
   "outputs": [],
   "source": [
    "def figure_maker(counter_list, title, x_name, y_name):\n",
    "    x_list = []\n",
    "    y_list = []\n",
    "    for tupple in counter_list:\n",
    "        x_list.append(tupple[0])\n",
    "        y_list.append(tupple[1])\n",
    "    pyp.bar(x_list, y_list, tick_label = x_list)\n",
    "    pyp.title(title)\n",
    "    pyp.xlabel(x_name)\n",
    "    pyp.ylabel(y_name)"
   ]
  },
  {
   "cell_type": "code",
   "execution_count": 56,
   "id": "42851aa3-5006-4f04-8fc6-3266dc7ed4ea",
   "metadata": {},
   "outputs": [
    {
     "data": {
      "image/png": "[encoded data removed]",
      "text/plain": [
       "<Figure size 640x480 with 1 Axes>"
      ]
     },
     "metadata": {},
     "output_type": "display_data"
    }
   ],
   "source": [
    "figure_maker(co_occurrence_list,\"猫と共起グラフ（一文中）\", \"単語\", \"共起回数\")"
   ]
  },
  {
   "cell_type": "markdown",
   "id": "5cbe9652-a479-4951-892f-d3974e29d15a",
   "metadata": {},
   "source": [
    "#38. ヒストグラム\n",
    "\n",
    "単語の出現頻度のヒストグラムを描け．ただし，横軸は出現頻度を表し，1から単語の出現頻度の最大値までの線形目盛とする．縦軸はx軸で示される出現頻度となった単語の異なり数（種類数）である．"
   ]
  },
  {
   "cell_type": "code",
   "execution_count": 60,
   "id": "e67adb9c-fdeb-4fc3-8d6e-652ff0176d8d",
   "metadata": {},
   "outputs": [],
   "source": [
    "frequency_count = Counter()\n",
    "for sentence in neko_txt_list:\n",
    "    for morph in sentence:\n",
    "        frequency_count[morph['base']] += 1"
   ]
  },
  {
   "cell_type": "code",
   "execution_count": 63,
   "id": "edb01471-154a-4537-871f-7552394acee3",
   "metadata": {},
   "outputs": [
    {
     "data": {
      "text/plain": [
       "Text(0, 0.5, '種類数')"
      ]
     },
     "execution_count": 63,
     "metadata": {},
     "output_type": "execute_result"
    },
    {
     "data": {
      "image/png": "[encoded data removed]",
      "text/plain": [
       "<Figure size 640x480 with 1 Axes>"
      ]
     },
     "metadata": {},
     "output_type": "display_data"
    }
   ],
   "source": [
    "pyp.hist(frequency_count.values(),log=True, bins = 50)\n",
    "pyp.title(\"単語出現頻度ヒストグラム\")\n",
    "pyp.xlabel(\"出現頻度\")\n",
    "pyp.ylabel(\"種類数\")"
   ]
  },
  {
   "cell_type": "markdown",
   "id": "2c14cedf-ca61-45e6-b6f7-df632665cb61",
   "metadata": {},
   "source": [
    "#39. Zipfの法則\n",
    "\n",
    "単語の出現頻度順位を横軸，その出現頻度を縦軸として，両対数グラフをプロットせよ．"
   ]
  },
  {
   "cell_type": "code",
   "execution_count": 79,
   "id": "be337d3a-5d7b-44df-a403-dea9c3b0d1c7",
   "metadata": {},
   "outputs": [],
   "source": [
    "rank_count = frequency_count.most_common()\n",
    "#rank_count"
   ]
  },
  {
   "cell_type": "code",
   "execution_count": 76,
   "id": "b230b8b1-a948-4b60-aca5-11c1edf85877",
   "metadata": {},
   "outputs": [],
   "source": [
    "word_rank_list = [num for num in range(1,len(rank_count)+1)]\n",
    "frequency_list = [d[1] for d in rank_count]"
   ]
  },
  {
   "cell_type": "code",
   "execution_count": 77,
   "id": "52d72259-2fbd-4cf3-b95a-a60e10604707",
   "metadata": {},
   "outputs": [
    {
     "data": {
      "text/plain": [
       "Text(0, 0.5, '出現頻度')"
      ]
     },
     "execution_count": 77,
     "metadata": {},
     "output_type": "execute_result"
    },
    {
     "data": {
      "image/png": "[encoded data removed]",
      "text/plain": [
       "<Figure size 640x480 with 1 Axes>"
      ]
     },
     "metadata": {},
     "output_type": "display_data"
    }
   ],
   "source": [
    "pyp.plot(word_rank_list, frequency_list)\n",
    "pyp.xscale('log')\n",
    "pyp.yscale('log')\n",
    "pyp.title(\"単語出現頻度対数グラフ\")\n",
    "pyp.xlabel(\"出現頻度順位\")\n",
    "pyp.ylabel(\"出現頻度\")"
   ]
  },
  {
   "cell_type": "code",
   "execution_count": null,
   "id": "4f5c195b-0fcc-4136-9b46-f5c94021bbf3",
   "metadata": {},
   "outputs": [],
   "source": []
  }
 ],
 "metadata": {
  "kernelspec": {
   "display_name": "Python 3 (ipykernel)",
   "language": "python",
   "name": "python3"
  },
  "language_info": {
   "codemirror_mode": {
    "name": "ipython",
    "version": 3
   },
   "file_extension": ".py",
   "mimetype": "text/x-python",
   "name": "python",
   "nbconvert_exporter": "python",
   "pygments_lexer": "ipython3",
   "version": "3.8.11"
  }
 },
 "nbformat": 4,
 "nbformat_minor": 5
}
