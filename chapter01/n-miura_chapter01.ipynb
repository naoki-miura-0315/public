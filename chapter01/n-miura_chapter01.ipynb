{
 "cells": [
  {
   "cell_type": "markdown",
   "id": "c300ba85",
   "metadata": {},
   "source": [
    "<h2 id=\"00-文字列の逆順\">00. 文字列の逆順</h2>\n",
    "<p>文字列”stressed”の文字を逆に（末尾から先頭に向かって）並べた文字列を得よ．</p>\n"
   ]
  },
  {
   "cell_type": "code",
   "execution_count": 7,
   "id": "f8c6ab7b",
   "metadata": {},
   "outputs": [
    {
     "data": {
      "text/plain": [
       "'desserts'"
      ]
     },
     "execution_count": 7,
     "metadata": {},
     "output_type": "execute_result"
    }
   ],
   "source": [
    "#reversed()はリストではなくイテレータを返すので注意\n",
    "word = 'stressed'\n",
    "''.join(reversed(word))"
   ]
  },
  {
   "cell_type": "markdown",
   "id": "bd9d85f4",
   "metadata": {},
   "source": [
    "<h2 id=\"01-パタトクカシーー\">01. 「パタトクカシーー」</h2>\n",
    "<p>「パタトクカシーー」という文字列の1,3,5,7文字目を取り出して連結した文字列を得よ．</p>\n"
   ]
  },
  {
   "cell_type": "code",
   "execution_count": 9,
   "id": "0e72dfe6",
   "metadata": {},
   "outputs": [
    {
     "name": "stdout",
     "output_type": "stream",
     "text": [
      "パトカー\n"
     ]
    }
   ],
   "source": [
    "text = 'パタトクカシーー'\n",
    "step_text = text[::2]\n",
    "print(step_text)"
   ]
  },
  {
   "cell_type": "markdown",
   "id": "417b883d",
   "metadata": {},
   "source": [
    "<h2 id=\"02-パトカータクシーパタトクカシーー\">02. 「パトカー」＋「タクシー」＝「パタトクカシーー」</h2>\n",
    "<p>「パトカー」＋「タクシー」の文字を先頭から交互に連結して文字列「パタトクカシーー」を得よ．</p>\n"
   ]
  },
  {
   "cell_type": "code",
   "execution_count": 12,
   "id": "a27e5942",
   "metadata": {},
   "outputs": [
    {
     "name": "stdout",
     "output_type": "stream",
     "text": [
      "パタトクカシーー\n"
     ]
    }
   ],
   "source": [
    "police = 'パトカー'\n",
    "taxi = 'タクシー'\n",
    "police_taxi = ''\n",
    "\n",
    "for i in range(len(police)):\n",
    "    police_taxi += police[i] + taxi[i]\n",
    "\n",
    "print(police_taxi)"
   ]
  },
  {
   "cell_type": "markdown",
   "id": "2a5d03fc",
   "metadata": {},
   "source": [
    "<h2 id=\"03-円周率\">03. 円周率</h2>\n",
    "<p>“Now I need a drink, alcoholic of course, after the heavy lectures involving quantum mechanics.”という文を単語に分解し，各単語の（アルファベットの）文字数を先頭から出現順に並べたリストを作成せよ．</p>\n"
   ]
  },
  {
   "cell_type": "code",
   "execution_count": 14,
   "id": "669e7438",
   "metadata": {},
   "outputs": [
    {
     "data": {
      "text/plain": [
       "[3, 1, 4, 1, 5, 9, 2, 6, 5, 3, 5, 8, 9, 7, 9]"
      ]
     },
     "execution_count": 14,
     "metadata": {},
     "output_type": "execute_result"
    }
   ],
   "source": [
    "text = 'Now I need a drink, alcoholic of course, after the heavy lectures involving quantum mechanics.'\n",
    "useful_text_list = text.replace(',','').replace('.','').split()\n",
    "circle_list = []\n",
    "\n",
    "for word in useful_text_list:\n",
    "    circle_list.append(len(word))\n",
    "\n",
    "circle_list"
   ]
  },
  {
   "cell_type": "markdown",
   "id": "26e86ab3",
   "metadata": {},
   "source": [
    "<h2 id=\"04-元素記号\">04. 元素記号</h2>\n",
    "<p>“Hi He Lied Because Boron Could Not Oxidize Fluorine. New Nations Might Also Sign Peace Security Clause. Arthur King Can.”という文を単語に分解し，1, 5, 6, 7, 8, 9, 15, 16, 19番目の単語は先頭の1文字，それ以外の単語は先頭の2文字を取り出し，取り出した文字列から単語の位置（先頭から何番目の単語か）への連想配列（辞書型もしくはマップ型）を作成せよ．</p>\n"
   ]
  },
  {
   "cell_type": "code",
   "execution_count": 17,
   "id": "b53e01bb",
   "metadata": {},
   "outputs": [
    {
     "name": "stdout",
     "output_type": "stream",
     "text": [
      "{1: 'H', 2: 'He', 3: 'Li', 4: 'Be', 5: 'B', 6: 'C', 7: 'N', 8: 'O', 9: 'F', 10: 'Ne', 11: 'Na', 12: 'Mi', 13: 'Al', 14: 'Si', 15: 'P', 16: 'S', 17: 'Cl', 18: 'Ar', 19: 'K', 20: 'Ca'}\n"
     ]
    }
   ],
   "source": [
    "text = 'Hi He Lied Because Boron Could Not Oxidize Fluorine. New Nations Might Also Sign Peace Security Clause. Arthur King Can.'\n",
    "useful_text_list = text.replace('.','').split()\n",
    "paticular_num = [1, 5, 6, 7, 8, 9, 15, 16, 19]\n",
    "d = {}\n",
    "\n",
    "for i, word in enumerate(useful_text_list, 1):#便宜上１から始まり\n",
    "    if i in paticular_num:\n",
    "        d[i] = word[:1]\n",
    "    else:\n",
    "        d[i] = word[:2]\n",
    "        \n",
    "print(d)       "
   ]
  },
  {
   "cell_type": "markdown",
   "id": "fe496f1b",
   "metadata": {},
   "source": [
    "<h2 id=\"05-n-gram\">05. n-gram</h2>\n",
    "<p>与えられたシーケンス（文字列やリストなど）からn-gramを作る関数を作成せよ．この関数を用い，”I am an NLPer”という文から単語bi-gram，文字bi-gramを得よ．</p>\n"
   ]
  },
  {
   "cell_type": "code",
   "execution_count": 47,
   "id": "52af7b3b",
   "metadata": {},
   "outputs": [
    {
     "name": "stdout",
     "output_type": "stream",
     "text": [
      "[['I', 'am'], ['am', 'an'], ['an', 'NLPer']]\n",
      "['I ', ' a', 'am', 'm ', ' a', 'an', 'n ', ' N', 'NL', 'LP', 'Pe', 'er']\n"
     ]
    }
   ],
   "source": [
    "text = 'I am an NLPer'\n",
    "\n",
    "def get_n_gram(text, mode, n):\n",
    "    if mode == \"単語\":\n",
    "        new_text = text.split()\n",
    "        n_gram_word_list = []\n",
    "        for i in range(0, len(new_text)-1):\n",
    "            n_gram_word_list.append(new_text[i:i+n])\n",
    "        return n_gram_word_list\n",
    "    \n",
    "    elif mode == \"文字\":\n",
    "        n_gram_spel_list = []\n",
    "        for i in range(0, len(text)-1):\n",
    "            n_gram_spel_list.append(text[i:i+n])\n",
    "        return n_gram_spel_list\n",
    "    \n",
    "    else:\n",
    "        print(\"error\")\n",
    "\n",
    "print(get_n_gram(text, \"単語\", 2))\n",
    "print(get_n_gram(text, \"文字\", 2))\n",
    "#print(get_n_gram(text, \"三浦\", 2))"
   ]
  },
  {
   "cell_type": "markdown",
   "id": "3b2e4eac",
   "metadata": {},
   "source": [
    "<h2 id=\"06-集合\">06. 集合</h2>\n",
    "<p>“paraparaparadise”と”paragraph”に含まれる文字bi-gramの集合を，それぞれ, XとYとして求め，XとYの和集合，積集合，差集合を求めよ．さらに，’se’というbi-gramがXおよびYに含まれるかどうかを調べよ．</p>\n"
   ]
  },
  {
   "cell_type": "code",
   "execution_count": 55,
   "id": "3f6d786b",
   "metadata": {},
   "outputs": [
    {
     "name": "stdout",
     "output_type": "stream",
     "text": [
      "和集合:{'se', 'di', 'ad', 'ph', 'ra', 'pa', 'ar', 'gr', 'ag', 'ap', 'is'}\n",
      "差集合:{'ad', 'di', 'is', 'se'}\n",
      "積集合:{'ar', 'ap', 'ra', 'pa'}\n",
      "\"se\" in X is True\n",
      "\"se\" in Y is False\n"
     ]
    }
   ],
   "source": [
    "x = 'paraparaparadise'\n",
    "y = 'paragraph'\n",
    "\n",
    "X = set(get_n_gram(x, \"文字\", 2))\n",
    "Y = set(get_n_gram(y, \"文字\", 2))\n",
    "\n",
    "X_Y_uni = X | Y\n",
    "print(f'和集合:{X_Y_uni}')\n",
    "X_Y_diff = X - Y\n",
    "print(f'差集合:{X_Y_diff}')\n",
    "X_Y_intersection = X & Y\n",
    "print(f'積集合:{X_Y_intersection}')\n",
    "\n",
    "print('\"se\" in X is', \"se\" in X)\n",
    "print('\"se\" in Y is', \"se\" in Y)"
   ]
  },
  {
   "cell_type": "markdown",
   "id": "aa1de0f1",
   "metadata": {},
   "source": [
    "<h2 id=\"07-テンプレートによる文生成\">07. テンプレートによる文生成</h2>\n",
    "<p>引数x, y, zを受け取り「x時のyはz」という文字列を返す関数を実装せよ．さらに，x=12, y=”気温”, z=22.4として，実行結果を確認せよ．</p>"
   ]
  },
  {
   "cell_type": "code",
   "execution_count": 8,
   "id": "6a49d52a",
   "metadata": {},
   "outputs": [
    {
     "data": {
      "text/plain": [
       "'12時の気温は22.4'"
      ]
     },
     "execution_count": 8,
     "metadata": {},
     "output_type": "execute_result"
    }
   ],
   "source": [
    "def template(x,y,z):\n",
    "    return f'{x}時の{y}は{z}'\n",
    "\n",
    "template(12,\"気温\",22.4)"
   ]
  },
  {
   "cell_type": "markdown",
   "id": "85d2976d",
   "metadata": {},
   "source": [
    "<h2 id=\"08-暗号文\">08. 暗号文</h2>\n",
    "<p>与えられた文字列の各文字を，以下の仕様で変換する関数cipherを実装せよ．</p>\n",
    "<ul>\n",
    "<li>英小文字ならば(219 - 文字コード)の文字に置換</li>\n",
    "<li>その他の文字はそのまま出力</li>\n",
    "</ul>\n",
    "<p>この関数を用い，英語のメッセージを暗号化・復号化せよ．</p>\n"
   ]
  },
  {
   "cell_type": "code",
   "execution_count": 2,
   "id": "da1b680c",
   "metadata": {},
   "outputs": [],
   "source": [
    "def cipher(sent):\n",
    "    cipher_sent = ''\n",
    "    for w in sent:\n",
    "        num = ord(w)#文字コードに変換\n",
    "        if 97 <= num <= 122:#すなわち小文字\n",
    "            cipher_sent += chr(219 - num)\n",
    "        else:\n",
    "            cipher_sent += w\n",
    "            \n",
    "    return cipher_sent\n",
    "            "
   ]
  },
  {
   "cell_type": "code",
   "execution_count": 5,
   "id": "8ded7e60-1b45-4b40-980e-e09efdf0ee9f",
   "metadata": {},
   "outputs": [
    {
     "name": "stdout",
     "output_type": "stream",
     "text": [
      "I lugvm vmqlb kozbrmt Skozgllm3\n",
      "I often enjoy playing Splatoon3\n"
     ]
    }
   ],
   "source": [
    "sent = 'I often enjoy playing Splatoon3'\n",
    "ci_sent = cipher(sent)\n",
    "print(ci_sent)\n",
    "#複合化\n",
    "print(cipher(ci_sent))"
   ]
  },
  {
   "cell_type": "markdown",
   "id": "e1df84e0",
   "metadata": {},
   "source": [
    "<h2 id=\"09-typoglycemia\">09. Typoglycemia</h2>\n",
    "<p>スペースで区切られた単語列に対して，各単語の先頭と末尾の文字は残し，それ以外の文字の順序をランダムに並び替えるプログラムを作成せよ．ただし，長さが４以下の単語は並び替えないこととする．適当な英語の文（例えば”I couldn’t believe that I could actually understand what I was reading : the phenomenal power of the human mind .”）を与え，その実行結果を確認せよ．</p>\n"
   ]
  },
  {
   "cell_type": "code",
   "execution_count": 34,
   "id": "55802a31",
   "metadata": {},
   "outputs": [],
   "source": [
    "import random\n",
    "\n",
    "def Typoglycemia(str_data):\n",
    "    random_list = []\n",
    "    for word in str_data.split():\n",
    "        if len(word) <= 4:\n",
    "            random_list.append(word)\n",
    "        else:\n",
    "            spel_list = list(word[1:-1])\n",
    "            random.shuffle(spel_list)\n",
    "            random_list.append(word[0] + ''.join(spel_list) + word[-1])\n",
    "                           \n",
    "    return ' '.join(random_list)"
   ]
  },
  {
   "cell_type": "code",
   "execution_count": 35,
   "id": "c316c4e8-9e04-41f8-9975-f96834b8017d",
   "metadata": {},
   "outputs": [
    {
     "data": {
      "text/plain": [
       "'I cun’odlt bieelve that I cuold auatllcy utnsraednd what I was rdeaing : the poeaehnnml peowr of the human mind .'"
      ]
     },
     "execution_count": 35,
     "metadata": {},
     "output_type": "execute_result"
    }
   ],
   "source": [
    "sent = \"I couldn’t believe that I could actually understand what I was reading : the phenomenal power of the human mind .\"\n",
    "Typoglycemia(sent)"
   ]
  }
 ],
 "metadata": {
  "kernelspec": {
   "display_name": "Python 3 (ipykernel)",
   "language": "python",
   "name": "python3"
  },
  "language_info": {
   "codemirror_mode": {
    "name": "ipython",
    "version": 3
   },
   "file_extension": ".py",
   "mimetype": "text/x-python",
   "name": "python",
   "nbconvert_exporter": "python",
   "pygments_lexer": "ipython3",
   "version": "3.8.11"
  }
 },
 "nbformat": 4,
 "nbformat_minor": 5
}
